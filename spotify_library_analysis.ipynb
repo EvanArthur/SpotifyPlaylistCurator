{
 "cells": [
  {
   "cell_type": "code",
   "execution_count": 63,
   "metadata": {
    "slideshow": {
     "slide_type": "slide"
    }
   },
   "outputs": [],
   "source": [
    "import spotipy\n",
    "from spotipy.oauth2 import SpotifyOAuth\n",
    "import operator\n",
    "import numpy as np\n",
    "import pandas as pd\n",
    "import plotly.express as px\n",
    "import matplotlib.pyplot as plt\n",
    "from scipy.spatial import distance\n",
    "import csv\n",
    "import random\n",
    "\n",
    "scope = \"user-library-read\"\n",
    "\n",
    "sp = spotipy.Spotify(auth_manager=SpotifyOAuth(scope=scope))"
   ]
  },
  {
   "cell_type": "markdown",
   "metadata": {},
   "source": [
    "# Library Data Collection\n",
    "- Here we have the user login to their spotify account so we can collect their library information"
   ]
  },
  {
   "cell_type": "code",
   "execution_count": 64,
   "metadata": {},
   "outputs": [
    {
     "name": "stderr",
     "output_type": "stream",
     "text": [
      "Using `localhost` as redirect URI without a port. Specify a port (e.g. `localhost:8080`) to allow automatic retrieval of authentication code instead of having to copy and paste the URL your browser is redirected to.\n"
     ]
    },
    {
     "name": "stdout",
     "output_type": "stream",
     "text": [
      "Enter the URL you were redirected to: http://localhost/?code=AQCqT1FLqSBQx-zOSSs2cREQ5kiwBxk27fI6n5yDVwF_uIgeCfn1P4XfQRu-H4uCxG7n3z2rZwTajRVbdrtjD_hIxiDxzM0fP72ODxIKBXA9cjHmiUgQtef26yyGZyEEeQxCQMvhMN8mEUFsuN7N5Pvac8xMrsXNubx7mnSQD3Topp0aAAvi\n"
     ]
    }
   ],
   "source": [
    "tracks = []\n",
    "songs_user = []\n",
    "results = sp.current_user_saved_tracks(limit = 50, offset = 0)\n",
    "for idx, item in enumerate(results['items']):\n",
    "    track = item['track']\n",
    "    artist_pop = sp.artist(track['artists'][0]['uri'])['popularity']\n",
    "    features = sp.audio_features(track['uri'])\n",
    "    songs_user.append([features[0]['danceability'],\n",
    "                  features[0]['energy'],\n",
    "                  features[0]['speechiness'],\n",
    "                  features[0]['acousticness'],\n",
    "                  features[0]['valence']])\n",
    "    d = {'danceability': abs(features[0]['danceability']),\n",
    "         'energy': abs(features[0]['energy']),\n",
    "         'speechiness': abs(features[0]['speechiness']),\n",
    "         'acousticness': abs(features[0]['acousticness']),\n",
    "         'instrumentalness': abs(features[0]['instrumentalness']),\n",
    "         'liveness': abs(features[0]['liveness']),\n",
    "         'valence': abs(features[0]['valence'])}\n",
    "    d = list(d.items())\n",
    "    d = sorted(d, key=lambda x: x[1], reverse=True)\n",
    "    top_feature = d[0][0]\n",
    "    secondary_feature = d[1][0]\n",
    "    third_feature = d[2][0]\n",
    "    track_info = track['artists'][0]['name'], track['name'], track['popularity'], artist_pop, top_feature, secondary_feature, third_feature\n",
    "    tracks.append(track_info)"
   ]
  },
  {
   "cell_type": "code",
   "execution_count": 65,
   "metadata": {},
   "outputs": [],
   "source": [
    "offset = 50\n",
    "while results['items'] != []:\n",
    "    results = sp.current_user_saved_tracks(limit=50, offset = offset)\n",
    "    for idx, item in enumerate(results['items']):\n",
    "        track = item['track']\n",
    "        artist_pop = sp.artist(track['artists'][0]['uri'])['popularity']\n",
    "        features = sp.audio_features(track['uri'])\n",
    "        songs_user.append([features[0]['danceability'],\n",
    "              features[0]['energy'],\n",
    "              features[0]['speechiness'],\n",
    "              features[0]['acousticness'],\n",
    "              features[0]['valence']])\n",
    "        d = {'danceability': abs(features[0]['danceability']),\n",
    "             'energy': abs(features[0]['energy']),\n",
    "             'speechiness': abs(features[0]['speechiness']),\n",
    "             'acousticness': abs(features[0]['acousticness']),\n",
    "             'instrumentalness': abs(features[0]['instrumentalness']),\n",
    "             'liveness': abs(features[0]['liveness']),\n",
    "             'valence': abs(features[0]['valence'])}\n",
    "        d = list(d.items())\n",
    "        d = sorted(d, key=lambda x: x[1], reverse=True)\n",
    "        top_feature = d[0][0]\n",
    "        secondary_feature = d[1][0]\n",
    "        third_feature = d[2][0]\n",
    "        track_info = track['artists'][0]['name'], track['name'], track['popularity'], artist_pop, top_feature, secondary_feature, third_feature\n",
    "        tracks.append(track_info)\n",
    "    offset += 50"
   ]
  },
  {
   "cell_type": "code",
   "execution_count": 66,
   "metadata": {},
   "outputs": [],
   "source": [
    "tracks_pd = pd.DataFrame(tracks, columns = ['Artist', 'Song', 'Track_Popularity', 'Artist_Popularity', 'Top_Feature', 'Second_Feature', 'Third_Feature'])\n",
    "tracks_pd = tracks_pd[tracks_pd.Track_Popularity != 0]\n",
    "tracks_pd = tracks_pd[tracks_pd.Artist_Popularity != 0]"
   ]
  },
  {
   "cell_type": "code",
   "execution_count": 67,
   "metadata": {},
   "outputs": [],
   "source": [
    "tracks_np = np.array(tracks)"
   ]
  },
  {
   "cell_type": "markdown",
   "metadata": {},
   "source": [
    "# Library Information Table"
   ]
  },
  {
   "cell_type": "code",
   "execution_count": 68,
   "metadata": {},
   "outputs": [
    {
     "data": {
      "text/html": [
       "<div>\n",
       "<style scoped>\n",
       "    .dataframe tbody tr th:only-of-type {\n",
       "        vertical-align: middle;\n",
       "    }\n",
       "\n",
       "    .dataframe tbody tr th {\n",
       "        vertical-align: top;\n",
       "    }\n",
       "\n",
       "    .dataframe thead th {\n",
       "        text-align: right;\n",
       "    }\n",
       "</style>\n",
       "<table border=\"1\" class=\"dataframe\">\n",
       "  <thead>\n",
       "    <tr style=\"text-align: right;\">\n",
       "      <th></th>\n",
       "      <th>Artist</th>\n",
       "      <th>Song</th>\n",
       "      <th>Track_Popularity</th>\n",
       "      <th>Artist_Popularity</th>\n",
       "      <th>Top_Feature</th>\n",
       "      <th>Second_Feature</th>\n",
       "      <th>Third_Feature</th>\n",
       "    </tr>\n",
       "  </thead>\n",
       "  <tbody>\n",
       "    <tr>\n",
       "      <th>0</th>\n",
       "      <td>Frank Turner</td>\n",
       "      <td>Recovery</td>\n",
       "      <td>41</td>\n",
       "      <td>60</td>\n",
       "      <td>energy</td>\n",
       "      <td>valence</td>\n",
       "      <td>danceability</td>\n",
       "    </tr>\n",
       "    <tr>\n",
       "      <th>1</th>\n",
       "      <td>Frank Turner</td>\n",
       "      <td>Losing Days</td>\n",
       "      <td>26</td>\n",
       "      <td>60</td>\n",
       "      <td>energy</td>\n",
       "      <td>valence</td>\n",
       "      <td>danceability</td>\n",
       "    </tr>\n",
       "    <tr>\n",
       "      <th>2</th>\n",
       "      <td>Frank Turner</td>\n",
       "      <td>The Way I Tend To Be</td>\n",
       "      <td>37</td>\n",
       "      <td>60</td>\n",
       "      <td>energy</td>\n",
       "      <td>valence</td>\n",
       "      <td>danceability</td>\n",
       "    </tr>\n",
       "    <tr>\n",
       "      <th>3</th>\n",
       "      <td>Frank Turner</td>\n",
       "      <td>Plain Sailing Weather</td>\n",
       "      <td>33</td>\n",
       "      <td>60</td>\n",
       "      <td>energy</td>\n",
       "      <td>valence</td>\n",
       "      <td>danceability</td>\n",
       "    </tr>\n",
       "    <tr>\n",
       "      <th>4</th>\n",
       "      <td>Frank Turner</td>\n",
       "      <td>Good &amp; Gone</td>\n",
       "      <td>19</td>\n",
       "      <td>60</td>\n",
       "      <td>danceability</td>\n",
       "      <td>energy</td>\n",
       "      <td>liveness</td>\n",
       "    </tr>\n",
       "    <tr>\n",
       "      <th>...</th>\n",
       "      <td>...</td>\n",
       "      <td>...</td>\n",
       "      <td>...</td>\n",
       "      <td>...</td>\n",
       "      <td>...</td>\n",
       "      <td>...</td>\n",
       "      <td>...</td>\n",
       "    </tr>\n",
       "    <tr>\n",
       "      <th>642</th>\n",
       "      <td>Crowded House</td>\n",
       "      <td>As Sure As I Am</td>\n",
       "      <td>27</td>\n",
       "      <td>69</td>\n",
       "      <td>valence</td>\n",
       "      <td>energy</td>\n",
       "      <td>danceability</td>\n",
       "    </tr>\n",
       "    <tr>\n",
       "      <th>643</th>\n",
       "      <td>Crowded House</td>\n",
       "      <td>Italian Plastic</td>\n",
       "      <td>33</td>\n",
       "      <td>69</td>\n",
       "      <td>valence</td>\n",
       "      <td>acousticness</td>\n",
       "      <td>danceability</td>\n",
       "    </tr>\n",
       "    <tr>\n",
       "      <th>644</th>\n",
       "      <td>Crowded House</td>\n",
       "      <td>She Goes On</td>\n",
       "      <td>36</td>\n",
       "      <td>69</td>\n",
       "      <td>acousticness</td>\n",
       "      <td>valence</td>\n",
       "      <td>danceability</td>\n",
       "    </tr>\n",
       "    <tr>\n",
       "      <th>645</th>\n",
       "      <td>Crowded House</td>\n",
       "      <td>How Will You Go/I'm Still Here - Medley</td>\n",
       "      <td>26</td>\n",
       "      <td>69</td>\n",
       "      <td>energy</td>\n",
       "      <td>liveness</td>\n",
       "      <td>acousticness</td>\n",
       "    </tr>\n",
       "    <tr>\n",
       "      <th>646</th>\n",
       "      <td>Crowded House</td>\n",
       "      <td>Chocolate Cake</td>\n",
       "      <td>38</td>\n",
       "      <td>69</td>\n",
       "      <td>valence</td>\n",
       "      <td>danceability</td>\n",
       "      <td>energy</td>\n",
       "    </tr>\n",
       "  </tbody>\n",
       "</table>\n",
       "<p>442 rows × 7 columns</p>\n",
       "</div>"
      ],
      "text/plain": [
       "            Artist                                     Song  Track_Popularity  \\\n",
       "0     Frank Turner                                 Recovery                41   \n",
       "1     Frank Turner                              Losing Days                26   \n",
       "2     Frank Turner                     The Way I Tend To Be                37   \n",
       "3     Frank Turner                    Plain Sailing Weather                33   \n",
       "4     Frank Turner                              Good & Gone                19   \n",
       "..             ...                                      ...               ...   \n",
       "642  Crowded House                          As Sure As I Am                27   \n",
       "643  Crowded House                          Italian Plastic                33   \n",
       "644  Crowded House                              She Goes On                36   \n",
       "645  Crowded House  How Will You Go/I'm Still Here - Medley                26   \n",
       "646  Crowded House                           Chocolate Cake                38   \n",
       "\n",
       "     Artist_Popularity   Top_Feature Second_Feature Third_Feature  \n",
       "0                   60        energy        valence  danceability  \n",
       "1                   60        energy        valence  danceability  \n",
       "2                   60        energy        valence  danceability  \n",
       "3                   60        energy        valence  danceability  \n",
       "4                   60  danceability         energy      liveness  \n",
       "..                 ...           ...            ...           ...  \n",
       "642                 69       valence         energy  danceability  \n",
       "643                 69       valence   acousticness  danceability  \n",
       "644                 69  acousticness        valence  danceability  \n",
       "645                 69        energy       liveness  acousticness  \n",
       "646                 69       valence   danceability        energy  \n",
       "\n",
       "[442 rows x 7 columns]"
      ]
     },
     "execution_count": 68,
     "metadata": {},
     "output_type": "execute_result"
    }
   ],
   "source": [
    "tracks_pd"
   ]
  },
  {
   "cell_type": "code",
   "execution_count": 69,
   "metadata": {},
   "outputs": [
    {
     "name": "stdout",
     "output_type": "stream",
     "text": [
      "You really look for energy most in your music, but you also really value danceability and like a little danceability!\n"
     ]
    }
   ],
   "source": [
    "print(f\"You really look for {tracks_pd.groupby(['Top_Feature']).count()['Artist'].idxmax()} most in your music, but you also really value {tracks_pd.groupby(['Second_Feature']).count()['Artist'].idxmax()} and like a little {tracks_pd.groupby(['Third_Feature']).count()['Artist'].idxmax()}!\")"
   ]
  },
  {
   "cell_type": "code",
   "execution_count": 70,
   "metadata": {},
   "outputs": [
    {
     "name": "stdout",
     "output_type": "stream",
     "text": [
      "The average track in your library has a popularity rating of 22.01 out of 100!\n"
     ]
    }
   ],
   "source": [
    "print(f\"The average track in your library has a popularity rating of {round(np.mean(tracks_np[:, 2].astype(int)),2)} out of 100!\")"
   ]
  },
  {
   "cell_type": "code",
   "execution_count": 71,
   "metadata": {},
   "outputs": [
    {
     "name": "stdout",
     "output_type": "stream",
     "text": [
      "The average artist in your library has a popularity rating of 60.14 out of 100!\n"
     ]
    }
   ],
   "source": [
    "print(f\"The average artist in your library has a popularity rating of {round(np.mean(tracks_np[:, 3].astype(int)),2)} out of 100!\")"
   ]
  },
  {
   "cell_type": "code",
   "execution_count": 72,
   "metadata": {},
   "outputs": [],
   "source": [
    "scope = \"user-top-read\"\n",
    "\n",
    "sp = spotipy.Spotify(auth_manager=SpotifyOAuth(scope=scope))"
   ]
  },
  {
   "cell_type": "code",
   "execution_count": 73,
   "metadata": {
    "scrolled": false
   },
   "outputs": [
    {
     "name": "stderr",
     "output_type": "stream",
     "text": [
      "Using `localhost` as redirect URI without a port. Specify a port (e.g. `localhost:8080`) to allow automatic retrieval of authentication code instead of having to copy and paste the URL your browser is redirected to.\n"
     ]
    },
    {
     "name": "stdout",
     "output_type": "stream",
     "text": [
      "Enter the URL you were redirected to: http://localhost/?code=AQC1lxkfoCi4buEHPj9Zdczlgu0CFKQrIcQlpcjBLjDMCdAtJoKUDDhGeCqMfA77EnetRpKYBI3JMYbCFYdPy9-LPqPW-USe1DVssw5pB2teU7kx3-apBasL2JTPrIy4C5YoQvHdzzL6yG-g0eWVyijYKapLCrTJpjIdnc4EiqyFGbQ\n"
     ]
    }
   ],
   "source": [
    "long_term_artist = []\n",
    "mid_term_artist = []\n",
    "short_term_artist = []\n",
    "\n",
    "top_artists = sp.current_user_top_artists(limit = 10, time_range='long_term')\n",
    "for idx, item in enumerate(top_artists['items']):\n",
    "    long_term_artist.append(sp.artist(item['uri'])['name'].split(\"\\n\"))\n",
    "\n",
    "top_artists2 = sp.current_user_top_artists(limit = 10, time_range='medium_term')\n",
    "for idx, item in enumerate(top_artists2['items']):\n",
    "    mid_term_artist.append(sp.artist(item['uri'])['name'].split(\"\\n\"))\n",
    "    \n",
    "top_artists3 = sp.current_user_top_artists(limit = 10, time_range='short_term')\n",
    "for idx, item in enumerate(top_artists3['items']):\n",
    "    short_term_artist.append(sp.artist(item['uri'])['name'].split(\"\\n\"))\n",
    "\n",
    "long_term_artist = pd.DataFrame(long_term_artist, columns = ['Artist'])\n",
    "mid_term_artist = pd.DataFrame(mid_term_artist, columns = ['Artist'])\n",
    "short_term_artist = pd.DataFrame(short_term_artist, columns = ['Artist'])"
   ]
  },
  {
   "cell_type": "markdown",
   "metadata": {},
   "source": [
    "# Top Artists\n",
    "- Here is a breakdown of your top artists and how they've change (or stayed the same over time)!"
   ]
  },
  {
   "cell_type": "code",
   "execution_count": 74,
   "metadata": {},
   "outputs": [
    {
     "data": {
      "text/html": [
       "<div>\n",
       "<style scoped>\n",
       "    .dataframe tbody tr th:only-of-type {\n",
       "        vertical-align: middle;\n",
       "    }\n",
       "\n",
       "    .dataframe tbody tr th {\n",
       "        vertical-align: top;\n",
       "    }\n",
       "\n",
       "    .dataframe thead th {\n",
       "        text-align: right;\n",
       "    }\n",
       "</style>\n",
       "<table border=\"1\" class=\"dataframe\">\n",
       "  <thead>\n",
       "    <tr style=\"text-align: right;\">\n",
       "      <th></th>\n",
       "      <th>Artist</th>\n",
       "    </tr>\n",
       "  </thead>\n",
       "  <tbody>\n",
       "    <tr>\n",
       "      <th>0</th>\n",
       "      <td>Zedd</td>\n",
       "    </tr>\n",
       "    <tr>\n",
       "      <th>1</th>\n",
       "      <td>BIGBANG</td>\n",
       "    </tr>\n",
       "    <tr>\n",
       "      <th>2</th>\n",
       "      <td>2NE1</td>\n",
       "    </tr>\n",
       "    <tr>\n",
       "      <th>3</th>\n",
       "      <td>BLACKPINK</td>\n",
       "    </tr>\n",
       "    <tr>\n",
       "      <th>4</th>\n",
       "      <td>WINNER</td>\n",
       "    </tr>\n",
       "    <tr>\n",
       "      <th>5</th>\n",
       "      <td>iKON</td>\n",
       "    </tr>\n",
       "    <tr>\n",
       "      <th>6</th>\n",
       "      <td>AILEE</td>\n",
       "    </tr>\n",
       "  </tbody>\n",
       "</table>\n",
       "</div>"
      ],
      "text/plain": [
       "      Artist\n",
       "0       Zedd\n",
       "1    BIGBANG\n",
       "2       2NE1\n",
       "3  BLACKPINK\n",
       "4     WINNER\n",
       "5       iKON\n",
       "6      AILEE"
      ]
     },
     "execution_count": 74,
     "metadata": {},
     "output_type": "execute_result"
    }
   ],
   "source": [
    "long_term_artist"
   ]
  },
  {
   "cell_type": "code",
   "execution_count": 75,
   "metadata": {},
   "outputs": [
    {
     "data": {
      "text/html": [
       "<div>\n",
       "<style scoped>\n",
       "    .dataframe tbody tr th:only-of-type {\n",
       "        vertical-align: middle;\n",
       "    }\n",
       "\n",
       "    .dataframe tbody tr th {\n",
       "        vertical-align: top;\n",
       "    }\n",
       "\n",
       "    .dataframe thead th {\n",
       "        text-align: right;\n",
       "    }\n",
       "</style>\n",
       "<table border=\"1\" class=\"dataframe\">\n",
       "  <thead>\n",
       "    <tr style=\"text-align: right;\">\n",
       "      <th></th>\n",
       "      <th>Artist</th>\n",
       "    </tr>\n",
       "  </thead>\n",
       "  <tbody>\n",
       "  </tbody>\n",
       "</table>\n",
       "</div>"
      ],
      "text/plain": [
       "Empty DataFrame\n",
       "Columns: [Artist]\n",
       "Index: []"
      ]
     },
     "execution_count": 75,
     "metadata": {},
     "output_type": "execute_result"
    }
   ],
   "source": [
    "mid_term_artist"
   ]
  },
  {
   "cell_type": "code",
   "execution_count": 76,
   "metadata": {},
   "outputs": [
    {
     "data": {
      "text/html": [
       "<div>\n",
       "<style scoped>\n",
       "    .dataframe tbody tr th:only-of-type {\n",
       "        vertical-align: middle;\n",
       "    }\n",
       "\n",
       "    .dataframe tbody tr th {\n",
       "        vertical-align: top;\n",
       "    }\n",
       "\n",
       "    .dataframe thead th {\n",
       "        text-align: right;\n",
       "    }\n",
       "</style>\n",
       "<table border=\"1\" class=\"dataframe\">\n",
       "  <thead>\n",
       "    <tr style=\"text-align: right;\">\n",
       "      <th></th>\n",
       "      <th>Artist</th>\n",
       "    </tr>\n",
       "  </thead>\n",
       "  <tbody>\n",
       "  </tbody>\n",
       "</table>\n",
       "</div>"
      ],
      "text/plain": [
       "Empty DataFrame\n",
       "Columns: [Artist]\n",
       "Index: []"
      ]
     },
     "execution_count": 76,
     "metadata": {},
     "output_type": "execute_result"
    }
   ],
   "source": [
    "short_term_artist"
   ]
  },
  {
   "cell_type": "code",
   "execution_count": 77,
   "metadata": {},
   "outputs": [],
   "source": [
    "top_artists = pd.concat([long_term_artist, mid_term_artist, short_term_artist]).drop_duplicates()"
   ]
  },
  {
   "cell_type": "code",
   "execution_count": 78,
   "metadata": {},
   "outputs": [],
   "source": [
    "long_mid_and_short = []\n",
    "long_mid_not_short = []\n",
    "mid_short_not_long = []\n",
    "\n",
    "for index, row in top_artists.iterrows():\n",
    "    if (long_term_artist[long_term_artist['Artist'].astype(str).str.contains(row['Artist'])].empty == False and \n",
    "    mid_term_artist[mid_term_artist['Artist'].astype(str).str.contains(row['Artist'])].empty == False and \n",
    "    short_term_artist[short_term_artist['Artist'].astype(str).str.contains(row['Artist'])].empty == False):\n",
    "        long_mid_and_short.append(row['Artist'])\n",
    "    elif (long_term_artist[long_term_artist['Artist'].astype(str).str.contains(row['Artist'])].empty == False and \n",
    "    mid_term_artist[mid_term_artist['Artist'].astype(str).str.contains(row['Artist'])].empty == False and \n",
    "    short_term_artist[short_term_artist['Artist'].astype(str).str.contains(row['Artist'])].empty):\n",
    "        long_mid_not_short.append(row['Artist'])\n",
    "    elif (long_term_artist[long_term_artist['Artist'].astype(str).str.contains(row['Artist'])].empty and \n",
    "    mid_term_artist[mid_term_artist['Artist'].astype(str).str.contains(row['Artist'])].empty == False and \n",
    "    short_term_artist[short_term_artist['Artist'].astype(str).str.contains(row['Artist'])].empty == False):\n",
    "        mid_short_not_long.append(row['Artist'])"
   ]
  },
  {
   "cell_type": "code",
   "execution_count": 79,
   "metadata": {},
   "outputs": [
    {
     "name": "stdout",
     "output_type": "stream",
     "text": [
      "You change things up a lot, it seems like you never keep the same artists in rotation!\n"
     ]
    }
   ],
   "source": [
    "if long_mid_and_short:\n",
    "    print(\"These artists are your ride or dies, you listened to them years ago, and you still listen now, you never stopped being a fan...\", long_mid_and_short)\n",
    "\n",
    "else:\n",
    "    print(\"You change things up a lot, it seems like you never keep the same artists in rotation!\")"
   ]
  },
  {
   "cell_type": "code",
   "execution_count": 80,
   "metadata": {},
   "outputs": [
    {
     "name": "stdout",
     "output_type": "stream",
     "text": [
      "You really show your favorite artists love all the time. You always keep them in rotation!\n"
     ]
    }
   ],
   "source": [
    "if long_mid_not_short:\n",
    "    print(\"Maybe show these artists some more love, it's been a minute...\", long_mid_not_short)\n",
    "else:\n",
    "    print(\"You really show your favorite artists love all the time. You always keep them in rotation!\")"
   ]
  },
  {
   "cell_type": "code",
   "execution_count": 81,
   "metadata": {},
   "outputs": [
    {
     "name": "stdout",
     "output_type": "stream",
     "text": [
      "Looks like none of your favorite artists were discovered in the past month!\n"
     ]
    }
   ],
   "source": [
    "if mid_short_not_long:\n",
    "    print(\"Looks like these artists are a newfound love...\", mid_short_not_long)\n",
    "else:\n",
    "    print(\"Looks like none of your favorite artists were discovered in the past month!\")"
   ]
  },
  {
   "cell_type": "markdown",
   "metadata": {},
   "source": [
    "# Visualization of Your Library!"
   ]
  },
  {
   "cell_type": "code",
   "execution_count": 82,
   "metadata": {},
   "outputs": [
    {
     "data": {
      "application/vnd.plotly.v1+json": {
       "config": {
        "plotlyServerURL": "https://plot.ly"
       },
       "data": [
        {
         "customdata": [
          [
           "Frank Turner"
          ],
          [
           "Frank Turner"
          ],
          [
           "Frank Turner"
          ],
          [
           "Frank Turner"
          ],
          [
           "Frank Turner"
          ],
          [
           "Frank Turner"
          ],
          [
           "Frank Turner"
          ],
          [
           "Frank Turner"
          ],
          [
           "Frank Turner"
          ],
          [
           "Bombay Bicycle Club"
          ],
          [
           "Bombay Bicycle Club"
          ],
          [
           "Bombay Bicycle Club"
          ],
          [
           "Bombay Bicycle Club"
          ],
          [
           "Bombay Bicycle Club"
          ],
          [
           "Bombay Bicycle Club"
          ],
          [
           "Bombay Bicycle Club"
          ],
          [
           "Bombay Bicycle Club"
          ],
          [
           "Bombay Bicycle Club"
          ],
          [
           "Bombay Bicycle Club"
          ],
          [
           "Bombay Bicycle Club"
          ],
          [
           "Kid Cudi"
          ],
          [
           "Kid Cudi"
          ],
          [
           "Kid Cudi"
          ],
          [
           "Kid Cudi"
          ],
          [
           "Chiddy Bang"
          ],
          [
           "Chiddy Bang"
          ],
          [
           "Chiddy Bang"
          ],
          [
           "Chiddy Bang"
          ],
          [
           "Chiddy Bang"
          ],
          [
           "Chiddy Bang"
          ],
          [
           "Chiddy Bang"
          ],
          [
           "Chiddy Bang"
          ],
          [
           "Mac Miller"
          ],
          [
           "The Decemberists"
          ],
          [
           "The Decemberists"
          ],
          [
           "The Decemberists"
          ],
          [
           "The Decemberists"
          ],
          [
           "The Decemberists"
          ],
          [
           "The Decemberists"
          ],
          [
           "Band of Horses"
          ],
          [
           "Band of Horses"
          ],
          [
           "Band of Horses"
          ],
          [
           "Band of Horses"
          ],
          [
           "Band of Horses"
          ],
          [
           "Band of Horses"
          ],
          [
           "Band of Horses"
          ],
          [
           "Band of Horses"
          ],
          [
           "Band of Horses"
          ],
          [
           "Band of Horses"
          ],
          [
           "Band of Horses"
          ],
          [
           "Band of Horses"
          ],
          [
           "Band of Horses"
          ],
          [
           "Spoon"
          ],
          [
           "Spoon"
          ],
          [
           "Spoon"
          ],
          [
           "Spoon"
          ],
          [
           "Spoon"
          ],
          [
           "Sir Sly"
          ],
          [
           "Sir Sly"
          ],
          [
           "Sir Sly"
          ],
          [
           "Sir Sly"
          ],
          [
           "Bright Eyes"
          ],
          [
           "Bright Eyes"
          ],
          [
           "Bright Eyes"
          ],
          [
           "Bright Eyes"
          ],
          [
           "Ben Folds"
          ],
          [
           "Ben Folds"
          ],
          [
           "Ben Folds"
          ],
          [
           "Ben Folds"
          ],
          [
           "Ben Folds"
          ],
          [
           "Ben Folds"
          ],
          [
           "Ben Folds"
          ],
          [
           "Ben Folds"
          ],
          [
           "Ben Folds"
          ],
          [
           "Ben Folds"
          ],
          [
           "Ben Folds Five"
          ],
          [
           "Ben Folds Five"
          ],
          [
           "Ben Folds Five"
          ],
          [
           "Ben Folds Five"
          ],
          [
           "Ben Folds Five"
          ],
          [
           "Ben Folds Five"
          ],
          [
           "Ben Folds Five"
          ],
          [
           "Ben Folds Five"
          ],
          [
           "Ben Folds Five"
          ],
          [
           "Ben Folds Five"
          ],
          [
           "Ben Folds Five"
          ],
          [
           "Ben Folds Five"
          ],
          [
           "Elvis Costello"
          ],
          [
           "Elvis Costello"
          ],
          [
           "Jack White"
          ],
          [
           "Jack White"
          ],
          [
           "Jack White"
          ],
          [
           "Jack White"
          ],
          [
           "Jack White"
          ],
          [
           "Jack White"
          ],
          [
           "The National"
          ],
          [
           "The National"
          ],
          [
           "The National"
          ],
          [
           "X Ambassadors"
          ],
          [
           "alt-J"
          ],
          [
           "alt-J"
          ],
          [
           "alt-J"
          ],
          [
           "Daft Punk"
          ],
          [
           "Daft Punk"
          ],
          [
           "Daft Punk"
          ],
          [
           "Daft Punk"
          ],
          [
           "The Clash"
          ],
          [
           "The Clash"
          ],
          [
           "The Clash"
          ],
          [
           "The Clash"
          ],
          [
           "The Clash"
          ],
          [
           "The Clash"
          ],
          [
           "The Clash"
          ],
          [
           "The Clash"
          ],
          [
           "The Clash"
          ],
          [
           "Faded Paper Figures"
          ],
          [
           "Faded Paper Figures"
          ],
          [
           "Faded Paper Figures"
          ],
          [
           "The Jayhawks"
          ],
          [
           "The Jayhawks"
          ],
          [
           "The Jayhawks"
          ],
          [
           "The Jayhawks"
          ],
          [
           "The Jayhawks"
          ],
          [
           "The Jayhawks"
          ],
          [
           "The Jayhawks"
          ],
          [
           "The Jayhawks"
          ],
          [
           "The Jayhawks"
          ],
          [
           "The Jayhawks"
          ],
          [
           "Rhett Miller"
          ],
          [
           "Rhett Miller"
          ],
          [
           "Rhett Miller"
          ],
          [
           "Rhett Miller"
          ],
          [
           "Rhett Miller"
          ],
          [
           "Rhett Miller"
          ],
          [
           "Rhett Miller"
          ],
          [
           "Rhett Miller"
          ],
          [
           "LCD Soundsystem"
          ],
          [
           "LCD Soundsystem"
          ],
          [
           "LCD Soundsystem"
          ],
          [
           "LCD Soundsystem"
          ],
          [
           "LCD Soundsystem"
          ],
          [
           "LCD Soundsystem"
          ],
          [
           "LCD Soundsystem"
          ],
          [
           "LCD Soundsystem"
          ],
          [
           "LCD Soundsystem"
          ],
          [
           "Guster"
          ],
          [
           "Guster"
          ],
          [
           "Guster"
          ],
          [
           "Guster"
          ],
          [
           "Guster"
          ],
          [
           "Guster"
          ],
          [
           "Guster"
          ],
          [
           "Guster"
          ],
          [
           "Guster"
          ],
          [
           "Guster"
          ],
          [
           "Guster"
          ],
          [
           "Guster"
          ],
          [
           "Guster"
          ],
          [
           "Guster"
          ],
          [
           "Guster"
          ],
          [
           "Guster"
          ],
          [
           "Guster"
          ],
          [
           "Guster"
          ],
          [
           "Guster"
          ],
          [
           "Guster"
          ],
          [
           "Guster"
          ],
          [
           "Guster"
          ],
          [
           "Guster"
          ],
          [
           "Guster"
          ],
          [
           "Guster"
          ],
          [
           "The Fratellis"
          ],
          [
           "The Fratellis"
          ],
          [
           "The Fratellis"
          ],
          [
           "The Fratellis"
          ],
          [
           "The Fratellis"
          ],
          [
           "The Fratellis"
          ],
          [
           "The Fratellis"
          ],
          [
           "The Fratellis"
          ],
          [
           "The Fratellis"
          ],
          [
           "The Fratellis"
          ],
          [
           "The Fratellis"
          ],
          [
           "The Fratellis"
          ],
          [
           "Young the Giant"
          ],
          [
           "Young the Giant"
          ],
          [
           "Young the Giant"
          ],
          [
           "Young the Giant"
          ],
          [
           "Young the Giant"
          ],
          [
           "Young the Giant"
          ],
          [
           "Young the Giant"
          ],
          [
           "Young the Giant"
          ],
          [
           "Young the Giant"
          ],
          [
           "Young the Giant"
          ],
          [
           "Moby"
          ],
          [
           "Moby"
          ],
          [
           "Moby"
          ],
          [
           "Moby"
          ],
          [
           "Moby"
          ],
          [
           "Moby"
          ],
          [
           "Moby"
          ],
          [
           "Crowded House"
          ],
          [
           "Crowded House"
          ],
          [
           "Crowded House"
          ]
         ],
         "hovertemplate": "<b>%{hovertext}</b><br><br>Top_Feature=energy<br>Track_Popularity=%{x}<br>Artist_Popularity=%{y}<br>Artist=%{customdata[0]}<extra></extra>",
         "hovertext": [
          "Recovery",
          "Losing Days",
          "The Way I Tend To Be",
          "Plain Sailing Weather",
          "Four Simple Words",
          "Polaroid Picture",
          "The Fisher King Blues",
          "Oh Brother",
          "Time Machine",
          "How Can You Swallow So Much Sleep",
          "Bad Timing",
          "Your Eyes",
          "Lights Out, Words Gone",
          "Take The Right One",
          "Shuffle",
          "Beggars",
          "Leave It",
          "Fracture",
          "What You Want",
          "Favourite Day",
          "Soundtrack 2 My Life",
          "Alive (Nightmare)",
          "Sky Might Fall",
          "Up Up & Away",
          "Handclaps & Guitars",
          "Mind Your Manners (feat. Icona Pop)",
          "Ray Charles",
          "Does She Love Me?",
          "Run It Back (feat. Shirazi)",
          "Out 2 Space (feat. Gordon Voidwell)",
          "Whatever We Want",
          "4th Quarter",
          "Donald Trump",
          "Don't Carry It All",
          "Calamity Song",
          "Rox In The Box",
          "Down By The Water",
          "All Arise!",
          "This Is Why We Fight",
          "Factory",
          "Compliments",
          "Laredo",
          "Blue Beard",
          "On My Way Back Home",
          "Infinite Arms",
          "For Annabelle",
          "NW Apt.",
          "Neighbor",
          "Knock Knock",
          "Electric Music",
          "Feud",
          "Knock Knock - Live from Jackson Hole",
          "Rainy Taxi",
          "Outlier",
          "They Want My Soul",
          "Let Me Be Mine",
          "New York Kiss",
          "Where I'm Going",
          "Gold",
          "Found You Out",
          "Ghost",
          "We Are Nowhere And It's Now",
          "Old Soul Song (For The New World Order)",
          "Train Under Water",
          "Road To Joy",
          "There's Always Someone Cooler Than You",
          "Zak and Sara",
          "Still Fighting It",
          "Gone",
          "The Ascent of Stan",
          "Losing Lisa",
          "Carrying Cathy",
          "Not the Same",
          "Rockin' the Suburbs",
          "Fired",
          "One Angry Dwarf and 200 Solemn Faces",
          "Fair",
          "Song for the Dumped",
          "Selfless, Cold and Composed",
          "Kate",
          "Smoke",
          "Steven's Last Night in Town",
          "Battle of Who Could Care Less",
          "Video Killed the Radio Star",
          "Theme From Dr. Pyser",
          "Air",
          "Song For The Dumped - Japanese Version",
          "Mystery Dance",
          "I'm Not Angry",
          "Lazaretto",
          "Just One Drink",
          "Would You Fight For My Love?",
          "High Ball Stepper",
          "Alone In My Home",
          "I Think I Found The Culprit",
          "I Should Live in Salt",
          "Don't Swallow the Cap",
          "Graceless",
          "Jungle",
          "Breezeblocks",
          "Dissolve Me",
          "Fitzpleasure",
          "One More Time",
          "Superheroes",
          "High Life",
          "Aerodynamic",
          "London Calling - Remastered",
          "Brand New Cadillac - Remastered",
          "Hateful - Remastered",
          "Rudie Can't Fail - Remastered",
          "Spanish Bombs - Remastered",
          "Death or Glory - Remastered",
          "The Card Cheat - Remastered",
          "Four Horsemen - Remastered",
          "I'm Not Down - Remastered",
          "North by North",
          "Logos",
          "Speeches",
          "Stumbling Through The Dark",
          "Don't Let The World Get In Your Way",
          "Come To The River",
          "Angelyne",
          "You Look So Young",
          "Say Your Prayers - Demo Version",
          "Tailspin",
          "Save It For A Rainy Day",
          "Eyes Of Sarahjane",
          "Caught With A Smile On My Face - Demo Version",
          "Our Love",
          "This Is What I Do",
          "Come Around - Radio Edit",
          "Things That Disappear",
          "Point Shirley",
          "Four-Eyed Girl",
          "The El",
          "I Want to Live",
          "Drunk Girls",
          "One Touch",
          "I Can Change",
          "Pow Pow",
          "Home",
          "All I Want - London Session",
          "Drunk Girls - London Session",
          "Get Innocuous! - London Session",
          "All My Friends - London Session",
          "Great Escape",
          "Demons",
          "Airport Song",
          "Medicine",
          "Bury Me",
          "Barrel Of A Gun",
          "Fa Fa",
          "Rainy Day",
          "What You Wish For",
          "Satellite",
          "Manifest Destiny",
          "One Man Wrecking Machine",
          "The Captain",
          "The New Underground",
          "Ruby Falls",
          "C'mon",
          "Dear Valentine",
          "The Beginning Of The End",
          "Hang On",
          "Amsterdam",
          "Homecoming King",
          "Keep It Together",
          "Come Downstairs And Say Hello",
          "Red Oyster Cult",
          "I Hope Tomorrow Is Like Today",
          "Creepin Up The Backstairs - Composite Edit (do not put on a/w)",
          "Flathead",
          "Chelsea Dagger",
          "The Gutterati?",
          "For The Girl",
          "Doginabag",
          "Vince The Loveable Stoner",
          "Everybody Knows You Cried Last Night",
          "Baby Fratelli",
          "Got Ma Nuts From A Hippie",
          "Ole Black 'n' Blue Eyes",
          "Henrietta",
          "My Body",
          "I Got",
          "Cough Syrup",
          "God Made Man",
          "12 Fingers",
          "Strings",
          "Your Side",
          "Garands",
          "St. Walker",
          "Apartment",
          "Find My Baby",
          "Porcelain",
          "Why Does My Heart Feel So Bad?",
          "South Side",
          "Machete",
          "Summer (B-Sides)",
          "Bodyrock",
          "Tall Trees",
          "Fame Is",
          "How Will You Go/I'm Still Here - Medley"
         ],
         "legendgroup": "energy",
         "marker": {
          "color": "#636efa",
          "symbol": "circle"
         },
         "mode": "markers",
         "name": "energy",
         "orientation": "v",
         "showlegend": true,
         "type": "scatter",
         "x": [
          41,
          26,
          37,
          33,
          32,
          22,
          20,
          16,
          17,
          49,
          37,
          38,
          55,
          33,
          59,
          33,
          34,
          30,
          36,
          30,
          66,
          52,
          53,
          55,
          32,
          48,
          35,
          20,
          22,
          19,
          23,
          19,
          64,
          51,
          40,
          38,
          47,
          32,
          39,
          42,
          35,
          41,
          33,
          41,
          38,
          30,
          27,
          28,
          32,
          22,
          36,
          19,
          34,
          29,
          33,
          33,
          32,
          20,
          31,
          17,
          23,
          45,
          37,
          37,
          45,
          31,
          37,
          39,
          30,
          31,
          27,
          26,
          33,
          44,
          27,
          39,
          29,
          36,
          37,
          40,
          28,
          29,
          37,
          28,
          20,
          24,
          18,
          27,
          24,
          54,
          33,
          39,
          41,
          33,
          29,
          31,
          34,
          29,
          35,
          71,
          50,
          56,
          73,
          52,
          51,
          57,
          71,
          46,
          43,
          48,
          50,
          48,
          38,
          35,
          38,
          35,
          15,
          10,
          27,
          18,
          18,
          29,
          19,
          13,
          29,
          50,
          21,
          13,
          29,
          16,
          36,
          10,
          8,
          13,
          23,
          5,
          23,
          21,
          28,
          20,
          27,
          17,
          15,
          17,
          18,
          19,
          32,
          26,
          18,
          14,
          34,
          32,
          23,
          30,
          52,
          32,
          40,
          29,
          23,
          40,
          25,
          25,
          21,
          26,
          36,
          26,
          33,
          28,
          22,
          30,
          37,
          41,
          58,
          29,
          36,
          26,
          28,
          31,
          34,
          27,
          30,
          44,
          60,
          44,
          70,
          37,
          41,
          42,
          35,
          36,
          35,
          51,
          32,
          53,
          44,
          38,
          26,
          22,
          37,
          28,
          26,
          26
         ],
         "xaxis": "x",
         "y": [
          60,
          60,
          60,
          60,
          60,
          60,
          60,
          60,
          60,
          66,
          66,
          66,
          66,
          66,
          66,
          66,
          66,
          66,
          66,
          66,
          89,
          89,
          89,
          89,
          56,
          56,
          56,
          56,
          56,
          56,
          56,
          56,
          87,
          60,
          60,
          60,
          60,
          60,
          60,
          64,
          64,
          64,
          64,
          64,
          64,
          64,
          64,
          64,
          64,
          64,
          64,
          64,
          61,
          61,
          61,
          61,
          61,
          59,
          59,
          59,
          59,
          64,
          64,
          64,
          64,
          56,
          56,
          56,
          56,
          56,
          56,
          56,
          56,
          56,
          56,
          51,
          51,
          51,
          51,
          51,
          51,
          51,
          51,
          51,
          51,
          51,
          51,
          61,
          61,
          61,
          61,
          61,
          61,
          61,
          61,
          74,
          74,
          74,
          78,
          75,
          75,
          75,
          82,
          82,
          82,
          82,
          74,
          74,
          74,
          74,
          74,
          74,
          74,
          74,
          74,
          37,
          37,
          37,
          53,
          53,
          53,
          53,
          53,
          53,
          53,
          53,
          53,
          53,
          33,
          33,
          33,
          33,
          33,
          33,
          33,
          33,
          65,
          65,
          65,
          65,
          65,
          65,
          65,
          65,
          65,
          52,
          52,
          52,
          52,
          52,
          52,
          52,
          52,
          52,
          52,
          52,
          52,
          52,
          52,
          52,
          52,
          52,
          52,
          52,
          52,
          52,
          52,
          52,
          52,
          52,
          63,
          63,
          63,
          63,
          63,
          63,
          63,
          63,
          63,
          63,
          63,
          63,
          70,
          70,
          70,
          70,
          70,
          70,
          70,
          70,
          70,
          70,
          72,
          72,
          72,
          72,
          72,
          72,
          72,
          69,
          69,
          69
         ],
         "yaxis": "y"
        },
        {
         "customdata": [
          [
           "Frank Turner"
          ],
          [
           "Frank Turner"
          ],
          [
           "Kid Cudi"
          ],
          [
           "Kid Cudi"
          ],
          [
           "Kid Cudi"
          ],
          [
           "Kid Cudi"
          ],
          [
           "Kid Cudi"
          ],
          [
           "Kid Cudi"
          ],
          [
           "Kid Cudi"
          ],
          [
           "Kid Cudi"
          ],
          [
           "Kid Cudi"
          ],
          [
           "Chiddy Bang"
          ],
          [
           "The Decemberists"
          ],
          [
           "The Decemberists"
          ],
          [
           "The Decemberists"
          ],
          [
           "Band of Horses"
          ],
          [
           "Band of Horses"
          ],
          [
           "Band of Horses"
          ],
          [
           "Band of Horses"
          ],
          [
           "Spoon"
          ],
          [
           "Spoon"
          ],
          [
           "Bright Eyes"
          ],
          [
           "Vince Guaraldi Trio"
          ],
          [
           "Vince Guaraldi Trio"
          ],
          [
           "Ben Folds Five"
          ],
          [
           "Ben Folds Five"
          ],
          [
           "alt-J"
          ],
          [
           "Daft Punk"
          ],
          [
           "Daft Punk"
          ],
          [
           "Daft Punk"
          ],
          [
           "The Clash"
          ],
          [
           "Faded Paper Figures"
          ],
          [
           "The Jayhawks"
          ],
          [
           "The Jayhawks"
          ],
          [
           "The Jayhawks"
          ],
          [
           "Rhett Miller"
          ],
          [
           "Rhett Miller"
          ],
          [
           "Damien Rice"
          ],
          [
           "LCD Soundsystem"
          ],
          [
           "LCD Soundsystem"
          ],
          [
           "Guster"
          ],
          [
           "Guster"
          ],
          [
           "Guster"
          ],
          [
           "Guster"
          ],
          [
           "Guster"
          ],
          [
           "Guster"
          ],
          [
           "Guster"
          ],
          [
           "Guster"
          ],
          [
           "Guster"
          ],
          [
           "Guster"
          ],
          [
           "Guster"
          ],
          [
           "Guster"
          ],
          [
           "Guster"
          ],
          [
           "Guster"
          ],
          [
           "Guster"
          ],
          [
           "Young the Giant"
          ],
          [
           "Young the Giant"
          ],
          [
           "Moby"
          ],
          [
           "Moby"
          ],
          [
           "Moby"
          ],
          [
           "Moby"
          ],
          [
           "Crowded House"
          ]
         ],
         "hovertemplate": "<b>%{hovertext}</b><br><br>Top_Feature=danceability<br>Track_Popularity=%{x}<br>Artist_Popularity=%{y}<br>Artist=%{customdata[0]}<extra></extra>",
         "hovertext": [
          "Good & Gone",
          "Tell Tale Signs",
          "Solo Dolo (Nightmare)",
          "Heart Of A Lion (Kid Cudi Theme Music)",
          "Hyyerr",
          "In My Dreams (Cudder Anthem)",
          "Simple As...",
          "Day 'N' Nite (nightmare)",
          "Cudi Zone",
          "Make Her Say",
          "Pursuit Of Happiness (Nightmare)",
          "Talking to Myself",
          "Rise To Me",
          "June Hymn",
          "Dear Avery",
          "Slow Cruel Hands Of Time",
          "Shut-In Tourist",
          "Dumpster World",
          "Heartbreak On The 101",
          "Inside Out",
          "Knock Knock Knock",
          "Poison Oak",
          "Oh, Good Grief - Vocal - Album Version",
          "Charlie Brown Theme",
          "Evaporated",
          "Mitchell Lane - Single B-Side - 1997",
          "Tessellate",
          "Harder, Better, Faster, Stronger",
          "Something About Us",
          "Too Long",
          "The Guns of Brixton - Remastered",
          "B Film",
          "Will I See You In Heaven",
          "One Man's Problem",
          "Madman",
          "Your Nervous Heart",
          "Terrible Vision",
          "The Blower's Daughter",
          "Oh You (Christmas Blues)",
          "You Wanted a Hit",
          "Perfect",
          "Grin",
          "Getting Even",
          "Melanie",
          "Either Way",
          "I Spy",
          "Center Of Attention",
          "Happier",
          "So Long",
          "Two Points For Honesty",
          "Backyard",
          "Ramona",
          "Long Way Down",
          "Silence",
          "Diane",
          "Every Little Thing",
          "Strings",
          "Natural Blues",
          "Run On",
          "The Sky Is Broken",
          "Honey",
          "Fall At Your Feet"
         ],
         "legendgroup": "danceability",
         "marker": {
          "color": "#EF553B",
          "symbol": "circle"
         },
         "mode": "markers",
         "name": "danceability",
         "orientation": "v",
         "showlegend": true,
         "type": "scatter",
         "x": [
          19,
          21,
          53,
          51,
          50,
          49,
          52,
          72,
          54,
          52,
          72,
          39,
          34,
          40,
          31,
          35,
          22,
          23,
          29,
          61,
          31,
          42,
          29,
          36,
          29,
          20,
          55,
          70,
          68,
          50,
          56,
          14,
          19,
          19,
          17,
          9,
          10,
          54,
          22,
          26,
          16,
          20,
          14,
          11,
          30,
          26,
          29,
          32,
          25,
          31,
          24,
          30,
          23,
          20,
          26,
          36,
          35,
          46,
          40,
          26,
          43,
          60
         ],
         "xaxis": "x",
         "y": [
          60,
          60,
          89,
          89,
          89,
          89,
          89,
          89,
          89,
          89,
          89,
          56,
          60,
          60,
          60,
          64,
          64,
          64,
          64,
          61,
          61,
          64,
          69,
          69,
          51,
          51,
          75,
          82,
          82,
          82,
          74,
          37,
          53,
          53,
          53,
          33,
          33,
          66,
          65,
          65,
          52,
          52,
          52,
          52,
          52,
          52,
          52,
          52,
          52,
          52,
          52,
          52,
          52,
          52,
          52,
          70,
          70,
          72,
          72,
          72,
          72,
          69
         ],
         "yaxis": "y"
        },
        {
         "customdata": [
          [
           "Frank Turner"
          ],
          [
           "Frank Turner"
          ],
          [
           "Frank Turner"
          ],
          [
           "Bombay Bicycle Club"
          ],
          [
           "Kid Cudi"
          ],
          [
           "Chiddy Bang"
          ],
          [
           "The Decemberists"
          ],
          [
           "Band of Horses"
          ],
          [
           "Band of Horses"
          ],
          [
           "Band of Horses"
          ],
          [
           "Bright Eyes"
          ],
          [
           "Bright Eyes"
          ],
          [
           "Bright Eyes"
          ],
          [
           "Vince Guaraldi Trio"
          ],
          [
           "Vince Guaraldi Trio"
          ],
          [
           "Vince Guaraldi Trio"
          ],
          [
           "Vince Guaraldi Trio"
          ],
          [
           "Vince Guaraldi Trio"
          ],
          [
           "Vince Guaraldi Trio"
          ],
          [
           "Vince Guaraldi Trio"
          ],
          [
           "Ben Folds"
          ],
          [
           "Ben Folds"
          ],
          [
           "Ben Folds Five"
          ],
          [
           "Ben Folds Five"
          ],
          [
           "Ben Folds Five"
          ],
          [
           "Elvis Costello"
          ],
          [
           "Jack White"
          ],
          [
           "Jack White"
          ],
          [
           "Jack White"
          ],
          [
           "The National"
          ],
          [
           "The National"
          ],
          [
           "The National"
          ],
          [
           "The National"
          ],
          [
           "The National"
          ],
          [
           "The National"
          ],
          [
           "The National"
          ],
          [
           "The National"
          ],
          [
           "alt-J"
          ],
          [
           "alt-J"
          ],
          [
           "alt-J"
          ],
          [
           "alt-J"
          ],
          [
           "alt-J"
          ],
          [
           "alt-J"
          ],
          [
           "alt-J"
          ],
          [
           "alt-J"
          ],
          [
           "Faded Paper Figures"
          ],
          [
           "The Jayhawks"
          ],
          [
           "The Jayhawks"
          ],
          [
           "The Jayhawks"
          ],
          [
           "The Jayhawks"
          ],
          [
           "The Jayhawks"
          ],
          [
           "The Jayhawks"
          ],
          [
           "Rhett Miller"
          ],
          [
           "Damien Rice"
          ],
          [
           "Damien Rice"
          ],
          [
           "Damien Rice"
          ],
          [
           "Damien Rice"
          ],
          [
           "Damien Rice"
          ],
          [
           "Damien Rice"
          ],
          [
           "Damien Rice"
          ],
          [
           "Guster"
          ],
          [
           "Guster"
          ],
          [
           "Guster"
          ],
          [
           "Young the Giant"
          ],
          [
           "Young the Giant"
          ],
          [
           "Crowded House"
          ],
          [
           "Crowded House"
          ],
          [
           "Crowded House"
          ]
         ],
         "hovertemplate": "<b>%{hovertext}</b><br><br>Top_Feature=acousticness<br>Track_Popularity=%{x}<br>Artist_Popularity=%{y}<br>Artist=%{customdata[0]}<extra></extra>",
         "hovertext": [
          "Anymore",
          "Broken Piano",
          "Wherefore Art Thou Gene Simmons?",
          "Still",
          "My World",
          "Interlude",
          "January Hymn",
          "Evening Kitchen",
          "Everything's Gonna Be Undone",
          "Long Vows",
          "Lua",
          "First Day Of My Life",
          "Land Locked Blues",
          "Heartburn Waltz",
          "Schroeder",
          "Great Pumpkin Waltz",
          "Thanksgiving Theme",
          "Christmas Time Is Here - Vocal - Album Version",
          "Charlie's Blues",
          "Christmas Time Is Here - Instrumental",
          "Fred Jones, Pt. 2",
          "The Luckiest",
          "Brick",
          "Cigarette",
          "Missing the War - Live at Sony Music Studios, New York, NY - June 1997",
          "Alison",
          "Temporary Ground",
          "Entitlement",
          "Want and Able",
          "Fireproof",
          "Heavenfaced",
          "This Is The Last Time",
          "Slipped",
          "I Need My Girl",
          "Humiliation",
          "Pink Rabbits",
          "Hard To Find",
          "Interlude 1",
          "Something Good",
          "Matilda",
          "Ms",
          "Interlude 3",
          "Bloodflood",
          "Taro",
          "Hand-Made",
          "Red State",
          "Tampa To Tulsa",
          "All The Right Reasons - Acoustic Version",
          "Tampa To Tulsa - Acoustic Version",
          "All The Right Reasons",
          "Stumbling Through The Dark - Reprise",
          "Waiting For The Sun - Live Acoustic (2002/Minneapolis)",
          "World Inside the World",
          "Delicate",
          "Cannonball",
          "Older Chests",
          "Amie",
          "Cheers Darlin'",
          "Cold Water",
          "Volcano",
          "Rocketship",
          "Empire State",
          "Lightning Rod",
          "Islands",
          "Typhoon",
          "Four Seasons In One Day",
          "All I Ask",
          "She Goes On"
         ],
         "legendgroup": "acousticness",
         "marker": {
          "color": "#00cc96",
          "symbol": "circle"
         },
         "mode": "markers",
         "name": "acousticness",
         "orientation": "v",
         "showlegend": true,
         "type": "scatter",
         "x": [
          22,
          17,
          15,
          31,
          49,
          14,
          40,
          32,
          24,
          24,
          58,
          68,
          43,
          34,
          35,
          35,
          32,
          63,
          32,
          33,
          30,
          49,
          55,
          25,
          26,
          58,
          31,
          29,
          27,
          24,
          22,
          32,
          21,
          42,
          22,
          27,
          23,
          44,
          53,
          53,
          59,
          41,
          46,
          55,
          42,
          8,
          24,
          14,
          13,
          33,
          15,
          13,
          10,
          48,
          47,
          46,
          32,
          35,
          32,
          43,
          21,
          23,
          30,
          36,
          35,
          50,
          33,
          36
         ],
         "xaxis": "x",
         "y": [
          60,
          60,
          60,
          66,
          89,
          56,
          60,
          64,
          64,
          64,
          64,
          64,
          64,
          69,
          69,
          69,
          69,
          69,
          69,
          69,
          56,
          56,
          51,
          51,
          51,
          61,
          61,
          61,
          61,
          74,
          74,
          74,
          74,
          74,
          74,
          74,
          74,
          75,
          75,
          75,
          75,
          75,
          75,
          75,
          75,
          37,
          53,
          53,
          53,
          53,
          53,
          53,
          33,
          66,
          66,
          66,
          66,
          66,
          66,
          66,
          52,
          52,
          52,
          70,
          70,
          69,
          69,
          69
         ],
         "yaxis": "y"
        },
        {
         "customdata": [
          [
           "Frank Turner"
          ],
          [
           "Frank Turner"
          ],
          [
           "ZOX"
          ],
          [
           "Kid Cudi"
          ],
          [
           "Chiddy Bang"
          ],
          [
           "Chiddy Bang"
          ],
          [
           "Chiddy Bang"
          ],
          [
           "Band of Horses"
          ],
          [
           "Band of Horses"
          ],
          [
           "Band of Horses"
          ],
          [
           "Spoon"
          ],
          [
           "Spoon"
          ],
          [
           "Spoon"
          ],
          [
           "Bright Eyes"
          ],
          [
           "Bright Eyes"
          ],
          [
           "Ben Folds"
          ],
          [
           "Vince Guaraldi Trio"
          ],
          [
           "Vince Guaraldi Trio"
          ],
          [
           "Vince Guaraldi Trio"
          ],
          [
           "Vince Guaraldi Trio"
          ],
          [
           "Ben Folds"
          ],
          [
           "Ben Folds Five"
          ],
          [
           "Ben Folds Five"
          ],
          [
           "Elvis Costello"
          ],
          [
           "Elvis Costello"
          ],
          [
           "Elvis Costello"
          ],
          [
           "Elvis Costello"
          ],
          [
           "Elvis Costello"
          ],
          [
           "Elvis Costello"
          ],
          [
           "Elvis Costello"
          ],
          [
           "Elvis Costello"
          ],
          [
           "Elvis Costello"
          ],
          [
           "Elvis Costello"
          ],
          [
           "Jack White"
          ],
          [
           "Jack White"
          ],
          [
           "Daft Punk"
          ],
          [
           "Daft Punk"
          ],
          [
           "The Clash"
          ],
          [
           "The Clash"
          ],
          [
           "The Clash"
          ],
          [
           "The Clash"
          ],
          [
           "The Clash"
          ],
          [
           "The Clash"
          ],
          [
           "The Clash"
          ],
          [
           "The Clash"
          ],
          [
           "The Clash"
          ],
          [
           "Faded Paper Figures"
          ],
          [
           "Faded Paper Figures"
          ],
          [
           "Faded Paper Figures"
          ],
          [
           "The Jayhawks"
          ],
          [
           "Rhett Miller"
          ],
          [
           "Damien Rice"
          ],
          [
           "Damien Rice"
          ],
          [
           "LCD Soundsystem"
          ],
          [
           "LCD Soundsystem"
          ],
          [
           "LCD Soundsystem"
          ],
          [
           "LCD Soundsystem"
          ],
          [
           "LCD Soundsystem"
          ],
          [
           "LCD Soundsystem"
          ],
          [
           "LCD Soundsystem"
          ],
          [
           "Guster"
          ],
          [
           "Guster"
          ],
          [
           "Guster"
          ],
          [
           "Guster"
          ],
          [
           "The Fratellis"
          ],
          [
           "Young the Giant"
          ],
          [
           "Moby"
          ],
          [
           "Moby"
          ],
          [
           "Crowded House"
          ],
          [
           "Crowded House"
          ],
          [
           "Crowded House"
          ],
          [
           "Crowded House"
          ],
          [
           "Crowded House"
          ],
          [
           "Crowded House"
          ],
          [
           "Crowded House"
          ]
         ],
         "hovertemplate": "<b>%{hovertext}</b><br><br>Top_Feature=valence<br>Track_Popularity=%{x}<br>Artist_Popularity=%{y}<br>Artist=%{customdata[0]}<extra></extra>",
         "hovertext": [
          "We Shall Not Overcome",
          "Tattoos",
          "Little More Time",
          "Enter Galactic (Love Connection Part I)",
          "Breakfast",
          "Happening",
          "Baby Roulette",
          "Dilly",
          "How To Live",
          "A Little Biblical",
          "Rent I Pay",
          "Do You",
          "I Just Don't Understand",
          "At The Bottom Of Everything",
          "Another Travelin' Song",
          "You Don't Know Me (feat. Regina Spektor)",
          "Surfin' Snoopy",
          "Track Meet",
          "Camptown Races",
          "Linus And Lucy",
          "Annie Waits",
          "For All the Pretty People - Single B-Side - 1997",
          "She Don't Use Jelly - Lounge-A-Palooza Version",
          "Welcome To The Working Week",
          "Miracle Man",
          "No Dancing",
          "Blame It On Cain",
          "Sneaky Feelings",
          "(The Angels Wanna Wear My) Red Shoes",
          "Less Than Zero",
          "Pay It Back - \\",
          "Waiting For The End Of The World",
          "Watching The Detectives - Single Version",
          "Three Women",
          "That Black Bat Licorice",
          "Crescendolls",
          "Face to Face",
          "Jimmy Jazz - Remastered",
          "The Right Profile - Remastered",
          "Lost in the Supermarket - Remastered",
          "Clampdown - Remastered",
          "Wrong 'Em Boyo - Remastered",
          "Koka Kola - Remastered",
          "Lover's Rock - Remastered",
          "Revolution Rock - Remastered",
          "Train in Vain (Stand by Me) - Remastered",
          "Future Self",
          "I Fell Off My Name",
          "The Persuaded",
          "Fools On Parade - Bonus Disc Version",
          "Hover",
          "I Remember",
          "Eskimo",
          "Dance Yrself Clean",
          "All I Want",
          "Us V Them - London Session",
          "Daft Punk Is Playing at My House - London Session",
          "Pow Pow - London Session",
          "I Can Change - London Session",
          "Yr City Is a Sucker - London Session",
          "All The Way Up To Heaven",
          "Careful",
          "Jesus On The Radio",
          "Two At A Time",
          "Whistle For The Choir",
          "Guns Out",
          "Flower (B-Sides)",
          "Running (B-Sides)",
          "It's Only Natural",
          "Weather With You",
          "Whispers And Moans",
          "There Goes God",
          "As Sure As I Am",
          "Italian Plastic",
          "Chocolate Cake"
         ],
         "legendgroup": "valence",
         "marker": {
          "color": "#ab63fa",
          "symbol": "circle"
         },
         "mode": "markers",
         "name": "valence",
         "orientation": "v",
         "showlegend": true,
         "type": "scatter",
         "x": [
          19,
          24,
          34,
          54,
          24,
          30,
          20,
          38,
          30,
          29,
          38,
          49,
          29,
          46,
          38,
          46,
          37,
          32,
          31,
          32,
          35,
          20,
          23,
          38,
          31,
          26,
          28,
          26,
          35,
          35,
          24,
          37,
          52,
          36,
          40,
          53,
          59,
          44,
          38,
          56,
          45,
          39,
          38,
          37,
          41,
          63,
          10,
          12,
          20,
          13,
          8,
          32,
          36,
          30,
          23,
          18,
          18,
          15,
          16,
          16,
          23,
          33,
          27,
          20,
          46,
          37,
          48,
          18,
          54,
          69,
          35,
          33,
          27,
          33,
          38
         ],
         "xaxis": "x",
         "y": [
          60,
          60,
          29,
          89,
          56,
          56,
          56,
          64,
          64,
          64,
          61,
          61,
          61,
          64,
          64,
          56,
          69,
          69,
          69,
          69,
          56,
          51,
          51,
          61,
          61,
          61,
          61,
          61,
          61,
          61,
          61,
          61,
          61,
          61,
          61,
          82,
          82,
          74,
          74,
          74,
          74,
          74,
          74,
          74,
          74,
          74,
          37,
          37,
          37,
          53,
          33,
          66,
          66,
          65,
          65,
          65,
          65,
          65,
          65,
          65,
          52,
          52,
          52,
          52,
          63,
          70,
          72,
          72,
          69,
          69,
          69,
          69,
          69,
          69,
          69
         ],
         "yaxis": "y"
        },
        {
         "customdata": [
          [
           "Chiddy Bang"
          ],
          [
           "Vince Guaraldi Trio"
          ],
          [
           "The National"
          ],
          [
           "The National"
          ],
          [
           "alt-J"
          ],
          [
           "alt-J"
          ],
          [
           "Daft Punk"
          ],
          [
           "Daft Punk"
          ],
          [
           "Daft Punk"
          ],
          [
           "Daft Punk"
          ],
          [
           "Daft Punk"
          ],
          [
           "Faded Paper Figures"
          ],
          [
           "Faded Paper Figures"
          ],
          [
           "Faded Paper Figures"
          ],
          [
           "Faded Paper Figures"
          ],
          [
           "LCD Soundsystem"
          ],
          [
           "LCD Soundsystem"
          ],
          [
           "Moby"
          ],
          [
           "Moby"
          ],
          [
           "Moby"
          ],
          [
           "Moby"
          ],
          [
           "Moby"
          ],
          [
           "Moby"
          ],
          [
           "Moby"
          ],
          [
           "Moby"
          ],
          [
           "Moby"
          ],
          [
           "Moby"
          ],
          [
           "Moby"
          ],
          [
           "Moby"
          ],
          [
           "Moby"
          ],
          [
           "Moby"
          ],
          [
           "Moby"
          ]
         ],
         "hovertemplate": "<b>%{hovertext}</b><br><br>Top_Feature=instrumentalness<br>Track_Popularity=%{x}<br>Artist_Popularity=%{y}<br>Artist=%{customdata[0]}<extra></extra>",
         "hovertext": [
          "Intro",
          "Joe Cool",
          "Demons",
          "Sea of Love",
          "Intro",
          "Interlude 2",
          "Digital Love",
          "Nightvision",
          "Voyager",
          "Veridis Quo",
          "Short Circuit",
          "Polaroid Solution",
          "Metropolis",
          "Geneva's Gone",
          "Being There",
          "Somebody's Calling Me",
          "Throw",
          "Down Slow",
          "If Things Were Perfect",
          "Everloving",
          "Inside",
          "Sunday (B-Sides)",
          "Memory Gospel (B-Sides)",
          "Whispering Wind (B-Sides)",
          "Spirit (B-Sides)",
          "Flying Foxes (B-Sides)",
          "Sunspot (B-Sides)",
          "Flying Over The Dateline (B-Sides)",
          "The Sun Never Stops Setting (B-Sides)",
          "Rushing",
          "7",
          "Guitar Flute & String"
         ],
         "legendgroup": "instrumentalness",
         "marker": {
          "color": "#FFA15A",
          "symbol": "circle"
         },
         "mode": "markers",
         "name": "instrumentalness",
         "orientation": "v",
         "showlegend": true,
         "type": "scatter",
         "x": [
          16,
          35,
          23,
          24,
          45,
          45,
          63,
          51,
          59,
          62,
          49,
          17,
          18,
          11,
          11,
          18,
          18,
          26,
          26,
          37,
          33,
          22,
          32,
          34,
          20,
          21,
          20,
          18,
          21,
          33,
          24,
          30
         ],
         "xaxis": "x",
         "y": [
          56,
          69,
          74,
          74,
          75,
          75,
          82,
          82,
          82,
          82,
          82,
          37,
          37,
          37,
          37,
          65,
          65,
          72,
          72,
          72,
          72,
          72,
          72,
          72,
          72,
          72,
          72,
          72,
          72,
          72,
          72,
          72
         ],
         "yaxis": "y"
        },
        {
         "customdata": [
          [
           "Band of Horses"
          ],
          [
           "Guster"
          ],
          [
           "Moby"
          ]
         ],
         "hovertemplate": "<b>%{hovertext}</b><br><br>Top_Feature=liveness<br>Track_Popularity=%{x}<br>Artist_Popularity=%{y}<br>Artist=%{customdata[0]}<extra></extra>",
         "hovertext": [
          "Older",
          "X-Ray Eyes",
          "My Weakness"
         ],
         "legendgroup": "liveness",
         "marker": {
          "color": "#19d3f3",
          "symbol": "circle"
         },
         "mode": "markers",
         "name": "liveness",
         "orientation": "v",
         "showlegend": true,
         "type": "scatter",
         "x": [
          30,
          21,
          32
         ],
         "xaxis": "x",
         "y": [
          64,
          52,
          72
         ],
         "yaxis": "y"
        }
       ],
       "layout": {
        "legend": {
         "title": {
          "text": "Top_Feature"
         },
         "tracegroupgap": 0
        },
        "template": {
         "data": {
          "bar": [
           {
            "error_x": {
             "color": "#2a3f5f"
            },
            "error_y": {
             "color": "#2a3f5f"
            },
            "marker": {
             "line": {
              "color": "#E5ECF6",
              "width": 0.5
             }
            },
            "type": "bar"
           }
          ],
          "barpolar": [
           {
            "marker": {
             "line": {
              "color": "#E5ECF6",
              "width": 0.5
             }
            },
            "type": "barpolar"
           }
          ],
          "carpet": [
           {
            "aaxis": {
             "endlinecolor": "#2a3f5f",
             "gridcolor": "white",
             "linecolor": "white",
             "minorgridcolor": "white",
             "startlinecolor": "#2a3f5f"
            },
            "baxis": {
             "endlinecolor": "#2a3f5f",
             "gridcolor": "white",
             "linecolor": "white",
             "minorgridcolor": "white",
             "startlinecolor": "#2a3f5f"
            },
            "type": "carpet"
           }
          ],
          "choropleth": [
           {
            "colorbar": {
             "outlinewidth": 0,
             "ticks": ""
            },
            "type": "choropleth"
           }
          ],
          "contour": [
           {
            "colorbar": {
             "outlinewidth": 0,
             "ticks": ""
            },
            "colorscale": [
             [
              0,
              "#0d0887"
             ],
             [
              0.1111111111111111,
              "#46039f"
             ],
             [
              0.2222222222222222,
              "#7201a8"
             ],
             [
              0.3333333333333333,
              "#9c179e"
             ],
             [
              0.4444444444444444,
              "#bd3786"
             ],
             [
              0.5555555555555556,
              "#d8576b"
             ],
             [
              0.6666666666666666,
              "#ed7953"
             ],
             [
              0.7777777777777778,
              "#fb9f3a"
             ],
             [
              0.8888888888888888,
              "#fdca26"
             ],
             [
              1,
              "#f0f921"
             ]
            ],
            "type": "contour"
           }
          ],
          "contourcarpet": [
           {
            "colorbar": {
             "outlinewidth": 0,
             "ticks": ""
            },
            "type": "contourcarpet"
           }
          ],
          "heatmap": [
           {
            "colorbar": {
             "outlinewidth": 0,
             "ticks": ""
            },
            "colorscale": [
             [
              0,
              "#0d0887"
             ],
             [
              0.1111111111111111,
              "#46039f"
             ],
             [
              0.2222222222222222,
              "#7201a8"
             ],
             [
              0.3333333333333333,
              "#9c179e"
             ],
             [
              0.4444444444444444,
              "#bd3786"
             ],
             [
              0.5555555555555556,
              "#d8576b"
             ],
             [
              0.6666666666666666,
              "#ed7953"
             ],
             [
              0.7777777777777778,
              "#fb9f3a"
             ],
             [
              0.8888888888888888,
              "#fdca26"
             ],
             [
              1,
              "#f0f921"
             ]
            ],
            "type": "heatmap"
           }
          ],
          "heatmapgl": [
           {
            "colorbar": {
             "outlinewidth": 0,
             "ticks": ""
            },
            "colorscale": [
             [
              0,
              "#0d0887"
             ],
             [
              0.1111111111111111,
              "#46039f"
             ],
             [
              0.2222222222222222,
              "#7201a8"
             ],
             [
              0.3333333333333333,
              "#9c179e"
             ],
             [
              0.4444444444444444,
              "#bd3786"
             ],
             [
              0.5555555555555556,
              "#d8576b"
             ],
             [
              0.6666666666666666,
              "#ed7953"
             ],
             [
              0.7777777777777778,
              "#fb9f3a"
             ],
             [
              0.8888888888888888,
              "#fdca26"
             ],
             [
              1,
              "#f0f921"
             ]
            ],
            "type": "heatmapgl"
           }
          ],
          "histogram": [
           {
            "marker": {
             "colorbar": {
              "outlinewidth": 0,
              "ticks": ""
             }
            },
            "type": "histogram"
           }
          ],
          "histogram2d": [
           {
            "colorbar": {
             "outlinewidth": 0,
             "ticks": ""
            },
            "colorscale": [
             [
              0,
              "#0d0887"
             ],
             [
              0.1111111111111111,
              "#46039f"
             ],
             [
              0.2222222222222222,
              "#7201a8"
             ],
             [
              0.3333333333333333,
              "#9c179e"
             ],
             [
              0.4444444444444444,
              "#bd3786"
             ],
             [
              0.5555555555555556,
              "#d8576b"
             ],
             [
              0.6666666666666666,
              "#ed7953"
             ],
             [
              0.7777777777777778,
              "#fb9f3a"
             ],
             [
              0.8888888888888888,
              "#fdca26"
             ],
             [
              1,
              "#f0f921"
             ]
            ],
            "type": "histogram2d"
           }
          ],
          "histogram2dcontour": [
           {
            "colorbar": {
             "outlinewidth": 0,
             "ticks": ""
            },
            "colorscale": [
             [
              0,
              "#0d0887"
             ],
             [
              0.1111111111111111,
              "#46039f"
             ],
             [
              0.2222222222222222,
              "#7201a8"
             ],
             [
              0.3333333333333333,
              "#9c179e"
             ],
             [
              0.4444444444444444,
              "#bd3786"
             ],
             [
              0.5555555555555556,
              "#d8576b"
             ],
             [
              0.6666666666666666,
              "#ed7953"
             ],
             [
              0.7777777777777778,
              "#fb9f3a"
             ],
             [
              0.8888888888888888,
              "#fdca26"
             ],
             [
              1,
              "#f0f921"
             ]
            ],
            "type": "histogram2dcontour"
           }
          ],
          "mesh3d": [
           {
            "colorbar": {
             "outlinewidth": 0,
             "ticks": ""
            },
            "type": "mesh3d"
           }
          ],
          "parcoords": [
           {
            "line": {
             "colorbar": {
              "outlinewidth": 0,
              "ticks": ""
             }
            },
            "type": "parcoords"
           }
          ],
          "pie": [
           {
            "automargin": true,
            "type": "pie"
           }
          ],
          "scatter": [
           {
            "marker": {
             "colorbar": {
              "outlinewidth": 0,
              "ticks": ""
             }
            },
            "type": "scatter"
           }
          ],
          "scatter3d": [
           {
            "line": {
             "colorbar": {
              "outlinewidth": 0,
              "ticks": ""
             }
            },
            "marker": {
             "colorbar": {
              "outlinewidth": 0,
              "ticks": ""
             }
            },
            "type": "scatter3d"
           }
          ],
          "scattercarpet": [
           {
            "marker": {
             "colorbar": {
              "outlinewidth": 0,
              "ticks": ""
             }
            },
            "type": "scattercarpet"
           }
          ],
          "scattergeo": [
           {
            "marker": {
             "colorbar": {
              "outlinewidth": 0,
              "ticks": ""
             }
            },
            "type": "scattergeo"
           }
          ],
          "scattergl": [
           {
            "marker": {
             "colorbar": {
              "outlinewidth": 0,
              "ticks": ""
             }
            },
            "type": "scattergl"
           }
          ],
          "scattermapbox": [
           {
            "marker": {
             "colorbar": {
              "outlinewidth": 0,
              "ticks": ""
             }
            },
            "type": "scattermapbox"
           }
          ],
          "scatterpolar": [
           {
            "marker": {
             "colorbar": {
              "outlinewidth": 0,
              "ticks": ""
             }
            },
            "type": "scatterpolar"
           }
          ],
          "scatterpolargl": [
           {
            "marker": {
             "colorbar": {
              "outlinewidth": 0,
              "ticks": ""
             }
            },
            "type": "scatterpolargl"
           }
          ],
          "scatterternary": [
           {
            "marker": {
             "colorbar": {
              "outlinewidth": 0,
              "ticks": ""
             }
            },
            "type": "scatterternary"
           }
          ],
          "surface": [
           {
            "colorbar": {
             "outlinewidth": 0,
             "ticks": ""
            },
            "colorscale": [
             [
              0,
              "#0d0887"
             ],
             [
              0.1111111111111111,
              "#46039f"
             ],
             [
              0.2222222222222222,
              "#7201a8"
             ],
             [
              0.3333333333333333,
              "#9c179e"
             ],
             [
              0.4444444444444444,
              "#bd3786"
             ],
             [
              0.5555555555555556,
              "#d8576b"
             ],
             [
              0.6666666666666666,
              "#ed7953"
             ],
             [
              0.7777777777777778,
              "#fb9f3a"
             ],
             [
              0.8888888888888888,
              "#fdca26"
             ],
             [
              1,
              "#f0f921"
             ]
            ],
            "type": "surface"
           }
          ],
          "table": [
           {
            "cells": {
             "fill": {
              "color": "#EBF0F8"
             },
             "line": {
              "color": "white"
             }
            },
            "header": {
             "fill": {
              "color": "#C8D4E3"
             },
             "line": {
              "color": "white"
             }
            },
            "type": "table"
           }
          ]
         },
         "layout": {
          "annotationdefaults": {
           "arrowcolor": "#2a3f5f",
           "arrowhead": 0,
           "arrowwidth": 1
          },
          "autotypenumbers": "strict",
          "coloraxis": {
           "colorbar": {
            "outlinewidth": 0,
            "ticks": ""
           }
          },
          "colorscale": {
           "diverging": [
            [
             0,
             "#8e0152"
            ],
            [
             0.1,
             "#c51b7d"
            ],
            [
             0.2,
             "#de77ae"
            ],
            [
             0.3,
             "#f1b6da"
            ],
            [
             0.4,
             "#fde0ef"
            ],
            [
             0.5,
             "#f7f7f7"
            ],
            [
             0.6,
             "#e6f5d0"
            ],
            [
             0.7,
             "#b8e186"
            ],
            [
             0.8,
             "#7fbc41"
            ],
            [
             0.9,
             "#4d9221"
            ],
            [
             1,
             "#276419"
            ]
           ],
           "sequential": [
            [
             0,
             "#0d0887"
            ],
            [
             0.1111111111111111,
             "#46039f"
            ],
            [
             0.2222222222222222,
             "#7201a8"
            ],
            [
             0.3333333333333333,
             "#9c179e"
            ],
            [
             0.4444444444444444,
             "#bd3786"
            ],
            [
             0.5555555555555556,
             "#d8576b"
            ],
            [
             0.6666666666666666,
             "#ed7953"
            ],
            [
             0.7777777777777778,
             "#fb9f3a"
            ],
            [
             0.8888888888888888,
             "#fdca26"
            ],
            [
             1,
             "#f0f921"
            ]
           ],
           "sequentialminus": [
            [
             0,
             "#0d0887"
            ],
            [
             0.1111111111111111,
             "#46039f"
            ],
            [
             0.2222222222222222,
             "#7201a8"
            ],
            [
             0.3333333333333333,
             "#9c179e"
            ],
            [
             0.4444444444444444,
             "#bd3786"
            ],
            [
             0.5555555555555556,
             "#d8576b"
            ],
            [
             0.6666666666666666,
             "#ed7953"
            ],
            [
             0.7777777777777778,
             "#fb9f3a"
            ],
            [
             0.8888888888888888,
             "#fdca26"
            ],
            [
             1,
             "#f0f921"
            ]
           ]
          },
          "colorway": [
           "#636efa",
           "#EF553B",
           "#00cc96",
           "#ab63fa",
           "#FFA15A",
           "#19d3f3",
           "#FF6692",
           "#B6E880",
           "#FF97FF",
           "#FECB52"
          ],
          "font": {
           "color": "#2a3f5f"
          },
          "geo": {
           "bgcolor": "white",
           "lakecolor": "white",
           "landcolor": "#E5ECF6",
           "showlakes": true,
           "showland": true,
           "subunitcolor": "white"
          },
          "hoverlabel": {
           "align": "left"
          },
          "hovermode": "closest",
          "mapbox": {
           "style": "light"
          },
          "paper_bgcolor": "white",
          "plot_bgcolor": "#E5ECF6",
          "polar": {
           "angularaxis": {
            "gridcolor": "white",
            "linecolor": "white",
            "ticks": ""
           },
           "bgcolor": "#E5ECF6",
           "radialaxis": {
            "gridcolor": "white",
            "linecolor": "white",
            "ticks": ""
           }
          },
          "scene": {
           "xaxis": {
            "backgroundcolor": "#E5ECF6",
            "gridcolor": "white",
            "gridwidth": 2,
            "linecolor": "white",
            "showbackground": true,
            "ticks": "",
            "zerolinecolor": "white"
           },
           "yaxis": {
            "backgroundcolor": "#E5ECF6",
            "gridcolor": "white",
            "gridwidth": 2,
            "linecolor": "white",
            "showbackground": true,
            "ticks": "",
            "zerolinecolor": "white"
           },
           "zaxis": {
            "backgroundcolor": "#E5ECF6",
            "gridcolor": "white",
            "gridwidth": 2,
            "linecolor": "white",
            "showbackground": true,
            "ticks": "",
            "zerolinecolor": "white"
           }
          },
          "shapedefaults": {
           "line": {
            "color": "#2a3f5f"
           }
          },
          "ternary": {
           "aaxis": {
            "gridcolor": "white",
            "linecolor": "white",
            "ticks": ""
           },
           "baxis": {
            "gridcolor": "white",
            "linecolor": "white",
            "ticks": ""
           },
           "bgcolor": "#E5ECF6",
           "caxis": {
            "gridcolor": "white",
            "linecolor": "white",
            "ticks": ""
           }
          },
          "title": {
           "x": 0.05
          },
          "xaxis": {
           "automargin": true,
           "gridcolor": "white",
           "linecolor": "white",
           "ticks": "",
           "title": {
            "standoff": 15
           },
           "zerolinecolor": "white",
           "zerolinewidth": 2
          },
          "yaxis": {
           "automargin": true,
           "gridcolor": "white",
           "linecolor": "white",
           "ticks": "",
           "title": {
            "standoff": 15
           },
           "zerolinecolor": "white",
           "zerolinewidth": 2
          }
         }
        },
        "title": {
         "text": "Library Track/Artist Breakdown"
        },
        "xaxis": {
         "anchor": "y",
         "domain": [
          0,
          1
         ],
         "title": {
          "text": "Track_Popularity"
         }
        },
        "yaxis": {
         "anchor": "x",
         "domain": [
          0,
          1
         ],
         "title": {
          "text": "Artist_Popularity"
         }
        }
       }
      },
      "text/html": [
       "<div>                            <div id=\"90c6ff90-aac5-4b0f-80b5-e2064e8f2f82\" class=\"plotly-graph-div\" style=\"height:525px; width:100%;\"></div>            <script type=\"text/javascript\">                require([\"plotly\"], function(Plotly) {                    window.PLOTLYENV=window.PLOTLYENV || {};                                    if (document.getElementById(\"90c6ff90-aac5-4b0f-80b5-e2064e8f2f82\")) {                    Plotly.newPlot(                        \"90c6ff90-aac5-4b0f-80b5-e2064e8f2f82\",                        [{\"customdata\": [[\"Frank Turner\"], [\"Frank Turner\"], [\"Frank Turner\"], [\"Frank Turner\"], [\"Frank Turner\"], [\"Frank Turner\"], [\"Frank Turner\"], [\"Frank Turner\"], [\"Frank Turner\"], [\"Bombay Bicycle Club\"], [\"Bombay Bicycle Club\"], [\"Bombay Bicycle Club\"], [\"Bombay Bicycle Club\"], [\"Bombay Bicycle Club\"], [\"Bombay Bicycle Club\"], [\"Bombay Bicycle Club\"], [\"Bombay Bicycle Club\"], [\"Bombay Bicycle Club\"], [\"Bombay Bicycle Club\"], [\"Bombay Bicycle Club\"], [\"Kid Cudi\"], [\"Kid Cudi\"], [\"Kid Cudi\"], [\"Kid Cudi\"], [\"Chiddy Bang\"], [\"Chiddy Bang\"], [\"Chiddy Bang\"], [\"Chiddy Bang\"], [\"Chiddy Bang\"], [\"Chiddy Bang\"], [\"Chiddy Bang\"], [\"Chiddy Bang\"], [\"Mac Miller\"], [\"The Decemberists\"], [\"The Decemberists\"], [\"The Decemberists\"], [\"The Decemberists\"], [\"The Decemberists\"], [\"The Decemberists\"], [\"Band of Horses\"], [\"Band of Horses\"], [\"Band of Horses\"], [\"Band of Horses\"], [\"Band of Horses\"], [\"Band of Horses\"], [\"Band of Horses\"], [\"Band of Horses\"], [\"Band of Horses\"], [\"Band of Horses\"], [\"Band of Horses\"], [\"Band of Horses\"], [\"Band of Horses\"], [\"Spoon\"], [\"Spoon\"], [\"Spoon\"], [\"Spoon\"], [\"Spoon\"], [\"Sir Sly\"], [\"Sir Sly\"], [\"Sir Sly\"], [\"Sir Sly\"], [\"Bright Eyes\"], [\"Bright Eyes\"], [\"Bright Eyes\"], [\"Bright Eyes\"], [\"Ben Folds\"], [\"Ben Folds\"], [\"Ben Folds\"], [\"Ben Folds\"], [\"Ben Folds\"], [\"Ben Folds\"], [\"Ben Folds\"], [\"Ben Folds\"], [\"Ben Folds\"], [\"Ben Folds\"], [\"Ben Folds Five\"], [\"Ben Folds Five\"], [\"Ben Folds Five\"], [\"Ben Folds Five\"], [\"Ben Folds Five\"], [\"Ben Folds Five\"], [\"Ben Folds Five\"], [\"Ben Folds Five\"], [\"Ben Folds Five\"], [\"Ben Folds Five\"], [\"Ben Folds Five\"], [\"Ben Folds Five\"], [\"Elvis Costello\"], [\"Elvis Costello\"], [\"Jack White\"], [\"Jack White\"], [\"Jack White\"], [\"Jack White\"], [\"Jack White\"], [\"Jack White\"], [\"The National\"], [\"The National\"], [\"The National\"], [\"X Ambassadors\"], [\"alt-J\"], [\"alt-J\"], [\"alt-J\"], [\"Daft Punk\"], [\"Daft Punk\"], [\"Daft Punk\"], [\"Daft Punk\"], [\"The Clash\"], [\"The Clash\"], [\"The Clash\"], [\"The Clash\"], [\"The Clash\"], [\"The Clash\"], [\"The Clash\"], [\"The Clash\"], [\"The Clash\"], [\"Faded Paper Figures\"], [\"Faded Paper Figures\"], [\"Faded Paper Figures\"], [\"The Jayhawks\"], [\"The Jayhawks\"], [\"The Jayhawks\"], [\"The Jayhawks\"], [\"The Jayhawks\"], [\"The Jayhawks\"], [\"The Jayhawks\"], [\"The Jayhawks\"], [\"The Jayhawks\"], [\"The Jayhawks\"], [\"Rhett Miller\"], [\"Rhett Miller\"], [\"Rhett Miller\"], [\"Rhett Miller\"], [\"Rhett Miller\"], [\"Rhett Miller\"], [\"Rhett Miller\"], [\"Rhett Miller\"], [\"LCD Soundsystem\"], [\"LCD Soundsystem\"], [\"LCD Soundsystem\"], [\"LCD Soundsystem\"], [\"LCD Soundsystem\"], [\"LCD Soundsystem\"], [\"LCD Soundsystem\"], [\"LCD Soundsystem\"], [\"LCD Soundsystem\"], [\"Guster\"], [\"Guster\"], [\"Guster\"], [\"Guster\"], [\"Guster\"], [\"Guster\"], [\"Guster\"], [\"Guster\"], [\"Guster\"], [\"Guster\"], [\"Guster\"], [\"Guster\"], [\"Guster\"], [\"Guster\"], [\"Guster\"], [\"Guster\"], [\"Guster\"], [\"Guster\"], [\"Guster\"], [\"Guster\"], [\"Guster\"], [\"Guster\"], [\"Guster\"], [\"Guster\"], [\"Guster\"], [\"The Fratellis\"], [\"The Fratellis\"], [\"The Fratellis\"], [\"The Fratellis\"], [\"The Fratellis\"], [\"The Fratellis\"], [\"The Fratellis\"], [\"The Fratellis\"], [\"The Fratellis\"], [\"The Fratellis\"], [\"The Fratellis\"], [\"The Fratellis\"], [\"Young the Giant\"], [\"Young the Giant\"], [\"Young the Giant\"], [\"Young the Giant\"], [\"Young the Giant\"], [\"Young the Giant\"], [\"Young the Giant\"], [\"Young the Giant\"], [\"Young the Giant\"], [\"Young the Giant\"], [\"Moby\"], [\"Moby\"], [\"Moby\"], [\"Moby\"], [\"Moby\"], [\"Moby\"], [\"Moby\"], [\"Crowded House\"], [\"Crowded House\"], [\"Crowded House\"]], \"hovertemplate\": \"<b>%{hovertext}</b><br><br>Top_Feature=energy<br>Track_Popularity=%{x}<br>Artist_Popularity=%{y}<br>Artist=%{customdata[0]}<extra></extra>\", \"hovertext\": [\"Recovery\", \"Losing Days\", \"The Way I Tend To Be\", \"Plain Sailing Weather\", \"Four Simple Words\", \"Polaroid Picture\", \"The Fisher King Blues\", \"Oh Brother\", \"Time Machine\", \"How Can You Swallow So Much Sleep\", \"Bad Timing\", \"Your Eyes\", \"Lights Out, Words Gone\", \"Take The Right One\", \"Shuffle\", \"Beggars\", \"Leave It\", \"Fracture\", \"What You Want\", \"Favourite Day\", \"Soundtrack 2 My Life\", \"Alive (Nightmare)\", \"Sky Might Fall\", \"Up Up & Away\", \"Handclaps & Guitars\", \"Mind Your Manners (feat. Icona Pop)\", \"Ray Charles\", \"Does She Love Me?\", \"Run It Back (feat. Shirazi)\", \"Out 2 Space (feat. Gordon Voidwell)\", \"Whatever We Want\", \"4th Quarter\", \"Donald Trump\", \"Don't Carry It All\", \"Calamity Song\", \"Rox In The Box\", \"Down By The Water\", \"All Arise!\", \"This Is Why We Fight\", \"Factory\", \"Compliments\", \"Laredo\", \"Blue Beard\", \"On My Way Back Home\", \"Infinite Arms\", \"For Annabelle\", \"NW Apt.\", \"Neighbor\", \"Knock Knock\", \"Electric Music\", \"Feud\", \"Knock Knock - Live from Jackson Hole\", \"Rainy Taxi\", \"Outlier\", \"They Want My Soul\", \"Let Me Be Mine\", \"New York Kiss\", \"Where I'm Going\", \"Gold\", \"Found You Out\", \"Ghost\", \"We Are Nowhere And It's Now\", \"Old Soul Song (For The New World Order)\", \"Train Under Water\", \"Road To Joy\", \"There's Always Someone Cooler Than You\", \"Zak and Sara\", \"Still Fighting It\", \"Gone\", \"The Ascent of Stan\", \"Losing Lisa\", \"Carrying Cathy\", \"Not the Same\", \"Rockin' the Suburbs\", \"Fired\", \"One Angry Dwarf and 200 Solemn Faces\", \"Fair\", \"Song for the Dumped\", \"Selfless, Cold and Composed\", \"Kate\", \"Smoke\", \"Steven's Last Night in Town\", \"Battle of Who Could Care Less\", \"Video Killed the Radio Star\", \"Theme From Dr. Pyser\", \"Air\", \"Song For The Dumped - Japanese Version\", \"Mystery Dance\", \"I'm Not Angry\", \"Lazaretto\", \"Just One Drink\", \"Would You Fight For My Love?\", \"High Ball Stepper\", \"Alone In My Home\", \"I Think I Found The Culprit\", \"I Should Live in Salt\", \"Don't Swallow the Cap\", \"Graceless\", \"Jungle\", \"Breezeblocks\", \"Dissolve Me\", \"Fitzpleasure\", \"One More Time\", \"Superheroes\", \"High Life\", \"Aerodynamic\", \"London Calling - Remastered\", \"Brand New Cadillac - Remastered\", \"Hateful - Remastered\", \"Rudie Can't Fail - Remastered\", \"Spanish Bombs - Remastered\", \"Death or Glory - Remastered\", \"The Card Cheat - Remastered\", \"Four Horsemen - Remastered\", \"I'm Not Down - Remastered\", \"North by North\", \"Logos\", \"Speeches\", \"Stumbling Through The Dark\", \"Don't Let The World Get In Your Way\", \"Come To The River\", \"Angelyne\", \"You Look So Young\", \"Say Your Prayers - Demo Version\", \"Tailspin\", \"Save It For A Rainy Day\", \"Eyes Of Sarahjane\", \"Caught With A Smile On My Face - Demo Version\", \"Our Love\", \"This Is What I Do\", \"Come Around - Radio Edit\", \"Things That Disappear\", \"Point Shirley\", \"Four-Eyed Girl\", \"The El\", \"I Want to Live\", \"Drunk Girls\", \"One Touch\", \"I Can Change\", \"Pow Pow\", \"Home\", \"All I Want - London Session\", \"Drunk Girls - London Session\", \"Get Innocuous! - London Session\", \"All My Friends - London Session\", \"Great Escape\", \"Demons\", \"Airport Song\", \"Medicine\", \"Bury Me\", \"Barrel Of A Gun\", \"Fa Fa\", \"Rainy Day\", \"What You Wish For\", \"Satellite\", \"Manifest Destiny\", \"One Man Wrecking Machine\", \"The Captain\", \"The New Underground\", \"Ruby Falls\", \"C'mon\", \"Dear Valentine\", \"The Beginning Of The End\", \"Hang On\", \"Amsterdam\", \"Homecoming King\", \"Keep It Together\", \"Come Downstairs And Say Hello\", \"Red Oyster Cult\", \"I Hope Tomorrow Is Like Today\", \"Creepin Up The Backstairs - Composite Edit (do not put on a/w)\", \"Flathead\", \"Chelsea Dagger\", \"The Gutterati?\", \"For The Girl\", \"Doginabag\", \"Vince The Loveable Stoner\", \"Everybody Knows You Cried Last Night\", \"Baby Fratelli\", \"Got Ma Nuts From A Hippie\", \"Ole Black 'n' Blue Eyes\", \"Henrietta\", \"My Body\", \"I Got\", \"Cough Syrup\", \"God Made Man\", \"12 Fingers\", \"Strings\", \"Your Side\", \"Garands\", \"St. Walker\", \"Apartment\", \"Find My Baby\", \"Porcelain\", \"Why Does My Heart Feel So Bad?\", \"South Side\", \"Machete\", \"Summer (B-Sides)\", \"Bodyrock\", \"Tall Trees\", \"Fame Is\", \"How Will You Go/I'm Still Here - Medley\"], \"legendgroup\": \"energy\", \"marker\": {\"color\": \"#636efa\", \"symbol\": \"circle\"}, \"mode\": \"markers\", \"name\": \"energy\", \"orientation\": \"v\", \"showlegend\": true, \"type\": \"scatter\", \"x\": [41, 26, 37, 33, 32, 22, 20, 16, 17, 49, 37, 38, 55, 33, 59, 33, 34, 30, 36, 30, 66, 52, 53, 55, 32, 48, 35, 20, 22, 19, 23, 19, 64, 51, 40, 38, 47, 32, 39, 42, 35, 41, 33, 41, 38, 30, 27, 28, 32, 22, 36, 19, 34, 29, 33, 33, 32, 20, 31, 17, 23, 45, 37, 37, 45, 31, 37, 39, 30, 31, 27, 26, 33, 44, 27, 39, 29, 36, 37, 40, 28, 29, 37, 28, 20, 24, 18, 27, 24, 54, 33, 39, 41, 33, 29, 31, 34, 29, 35, 71, 50, 56, 73, 52, 51, 57, 71, 46, 43, 48, 50, 48, 38, 35, 38, 35, 15, 10, 27, 18, 18, 29, 19, 13, 29, 50, 21, 13, 29, 16, 36, 10, 8, 13, 23, 5, 23, 21, 28, 20, 27, 17, 15, 17, 18, 19, 32, 26, 18, 14, 34, 32, 23, 30, 52, 32, 40, 29, 23, 40, 25, 25, 21, 26, 36, 26, 33, 28, 22, 30, 37, 41, 58, 29, 36, 26, 28, 31, 34, 27, 30, 44, 60, 44, 70, 37, 41, 42, 35, 36, 35, 51, 32, 53, 44, 38, 26, 22, 37, 28, 26, 26], \"xaxis\": \"x\", \"y\": [60, 60, 60, 60, 60, 60, 60, 60, 60, 66, 66, 66, 66, 66, 66, 66, 66, 66, 66, 66, 89, 89, 89, 89, 56, 56, 56, 56, 56, 56, 56, 56, 87, 60, 60, 60, 60, 60, 60, 64, 64, 64, 64, 64, 64, 64, 64, 64, 64, 64, 64, 64, 61, 61, 61, 61, 61, 59, 59, 59, 59, 64, 64, 64, 64, 56, 56, 56, 56, 56, 56, 56, 56, 56, 56, 51, 51, 51, 51, 51, 51, 51, 51, 51, 51, 51, 51, 61, 61, 61, 61, 61, 61, 61, 61, 74, 74, 74, 78, 75, 75, 75, 82, 82, 82, 82, 74, 74, 74, 74, 74, 74, 74, 74, 74, 37, 37, 37, 53, 53, 53, 53, 53, 53, 53, 53, 53, 53, 33, 33, 33, 33, 33, 33, 33, 33, 65, 65, 65, 65, 65, 65, 65, 65, 65, 52, 52, 52, 52, 52, 52, 52, 52, 52, 52, 52, 52, 52, 52, 52, 52, 52, 52, 52, 52, 52, 52, 52, 52, 52, 63, 63, 63, 63, 63, 63, 63, 63, 63, 63, 63, 63, 70, 70, 70, 70, 70, 70, 70, 70, 70, 70, 72, 72, 72, 72, 72, 72, 72, 69, 69, 69], \"yaxis\": \"y\"}, {\"customdata\": [[\"Frank Turner\"], [\"Frank Turner\"], [\"Kid Cudi\"], [\"Kid Cudi\"], [\"Kid Cudi\"], [\"Kid Cudi\"], [\"Kid Cudi\"], [\"Kid Cudi\"], [\"Kid Cudi\"], [\"Kid Cudi\"], [\"Kid Cudi\"], [\"Chiddy Bang\"], [\"The Decemberists\"], [\"The Decemberists\"], [\"The Decemberists\"], [\"Band of Horses\"], [\"Band of Horses\"], [\"Band of Horses\"], [\"Band of Horses\"], [\"Spoon\"], [\"Spoon\"], [\"Bright Eyes\"], [\"Vince Guaraldi Trio\"], [\"Vince Guaraldi Trio\"], [\"Ben Folds Five\"], [\"Ben Folds Five\"], [\"alt-J\"], [\"Daft Punk\"], [\"Daft Punk\"], [\"Daft Punk\"], [\"The Clash\"], [\"Faded Paper Figures\"], [\"The Jayhawks\"], [\"The Jayhawks\"], [\"The Jayhawks\"], [\"Rhett Miller\"], [\"Rhett Miller\"], [\"Damien Rice\"], [\"LCD Soundsystem\"], [\"LCD Soundsystem\"], [\"Guster\"], [\"Guster\"], [\"Guster\"], [\"Guster\"], [\"Guster\"], [\"Guster\"], [\"Guster\"], [\"Guster\"], [\"Guster\"], [\"Guster\"], [\"Guster\"], [\"Guster\"], [\"Guster\"], [\"Guster\"], [\"Guster\"], [\"Young the Giant\"], [\"Young the Giant\"], [\"Moby\"], [\"Moby\"], [\"Moby\"], [\"Moby\"], [\"Crowded House\"]], \"hovertemplate\": \"<b>%{hovertext}</b><br><br>Top_Feature=danceability<br>Track_Popularity=%{x}<br>Artist_Popularity=%{y}<br>Artist=%{customdata[0]}<extra></extra>\", \"hovertext\": [\"Good & Gone\", \"Tell Tale Signs\", \"Solo Dolo (Nightmare)\", \"Heart Of A Lion (Kid Cudi Theme Music)\", \"Hyyerr\", \"In My Dreams (Cudder Anthem)\", \"Simple As...\", \"Day 'N' Nite (nightmare)\", \"Cudi Zone\", \"Make Her Say\", \"Pursuit Of Happiness (Nightmare)\", \"Talking to Myself\", \"Rise To Me\", \"June Hymn\", \"Dear Avery\", \"Slow Cruel Hands Of Time\", \"Shut-In Tourist\", \"Dumpster World\", \"Heartbreak On The 101\", \"Inside Out\", \"Knock Knock Knock\", \"Poison Oak\", \"Oh, Good Grief - Vocal - Album Version\", \"Charlie Brown Theme\", \"Evaporated\", \"Mitchell Lane - Single B-Side - 1997\", \"Tessellate\", \"Harder, Better, Faster, Stronger\", \"Something About Us\", \"Too Long\", \"The Guns of Brixton - Remastered\", \"B Film\", \"Will I See You In Heaven\", \"One Man's Problem\", \"Madman\", \"Your Nervous Heart\", \"Terrible Vision\", \"The Blower's Daughter\", \"Oh You (Christmas Blues)\", \"You Wanted a Hit\", \"Perfect\", \"Grin\", \"Getting Even\", \"Melanie\", \"Either Way\", \"I Spy\", \"Center Of Attention\", \"Happier\", \"So Long\", \"Two Points For Honesty\", \"Backyard\", \"Ramona\", \"Long Way Down\", \"Silence\", \"Diane\", \"Every Little Thing\", \"Strings\", \"Natural Blues\", \"Run On\", \"The Sky Is Broken\", \"Honey\", \"Fall At Your Feet\"], \"legendgroup\": \"danceability\", \"marker\": {\"color\": \"#EF553B\", \"symbol\": \"circle\"}, \"mode\": \"markers\", \"name\": \"danceability\", \"orientation\": \"v\", \"showlegend\": true, \"type\": \"scatter\", \"x\": [19, 21, 53, 51, 50, 49, 52, 72, 54, 52, 72, 39, 34, 40, 31, 35, 22, 23, 29, 61, 31, 42, 29, 36, 29, 20, 55, 70, 68, 50, 56, 14, 19, 19, 17, 9, 10, 54, 22, 26, 16, 20, 14, 11, 30, 26, 29, 32, 25, 31, 24, 30, 23, 20, 26, 36, 35, 46, 40, 26, 43, 60], \"xaxis\": \"x\", \"y\": [60, 60, 89, 89, 89, 89, 89, 89, 89, 89, 89, 56, 60, 60, 60, 64, 64, 64, 64, 61, 61, 64, 69, 69, 51, 51, 75, 82, 82, 82, 74, 37, 53, 53, 53, 33, 33, 66, 65, 65, 52, 52, 52, 52, 52, 52, 52, 52, 52, 52, 52, 52, 52, 52, 52, 70, 70, 72, 72, 72, 72, 69], \"yaxis\": \"y\"}, {\"customdata\": [[\"Frank Turner\"], [\"Frank Turner\"], [\"Frank Turner\"], [\"Bombay Bicycle Club\"], [\"Kid Cudi\"], [\"Chiddy Bang\"], [\"The Decemberists\"], [\"Band of Horses\"], [\"Band of Horses\"], [\"Band of Horses\"], [\"Bright Eyes\"], [\"Bright Eyes\"], [\"Bright Eyes\"], [\"Vince Guaraldi Trio\"], [\"Vince Guaraldi Trio\"], [\"Vince Guaraldi Trio\"], [\"Vince Guaraldi Trio\"], [\"Vince Guaraldi Trio\"], [\"Vince Guaraldi Trio\"], [\"Vince Guaraldi Trio\"], [\"Ben Folds\"], [\"Ben Folds\"], [\"Ben Folds Five\"], [\"Ben Folds Five\"], [\"Ben Folds Five\"], [\"Elvis Costello\"], [\"Jack White\"], [\"Jack White\"], [\"Jack White\"], [\"The National\"], [\"The National\"], [\"The National\"], [\"The National\"], [\"The National\"], [\"The National\"], [\"The National\"], [\"The National\"], [\"alt-J\"], [\"alt-J\"], [\"alt-J\"], [\"alt-J\"], [\"alt-J\"], [\"alt-J\"], [\"alt-J\"], [\"alt-J\"], [\"Faded Paper Figures\"], [\"The Jayhawks\"], [\"The Jayhawks\"], [\"The Jayhawks\"], [\"The Jayhawks\"], [\"The Jayhawks\"], [\"The Jayhawks\"], [\"Rhett Miller\"], [\"Damien Rice\"], [\"Damien Rice\"], [\"Damien Rice\"], [\"Damien Rice\"], [\"Damien Rice\"], [\"Damien Rice\"], [\"Damien Rice\"], [\"Guster\"], [\"Guster\"], [\"Guster\"], [\"Young the Giant\"], [\"Young the Giant\"], [\"Crowded House\"], [\"Crowded House\"], [\"Crowded House\"]], \"hovertemplate\": \"<b>%{hovertext}</b><br><br>Top_Feature=acousticness<br>Track_Popularity=%{x}<br>Artist_Popularity=%{y}<br>Artist=%{customdata[0]}<extra></extra>\", \"hovertext\": [\"Anymore\", \"Broken Piano\", \"Wherefore Art Thou Gene Simmons?\", \"Still\", \"My World\", \"Interlude\", \"January Hymn\", \"Evening Kitchen\", \"Everything's Gonna Be Undone\", \"Long Vows\", \"Lua\", \"First Day Of My Life\", \"Land Locked Blues\", \"Heartburn Waltz\", \"Schroeder\", \"Great Pumpkin Waltz\", \"Thanksgiving Theme\", \"Christmas Time Is Here - Vocal - Album Version\", \"Charlie's Blues\", \"Christmas Time Is Here - Instrumental\", \"Fred Jones, Pt. 2\", \"The Luckiest\", \"Brick\", \"Cigarette\", \"Missing the War - Live at Sony Music Studios, New York, NY - June 1997\", \"Alison\", \"Temporary Ground\", \"Entitlement\", \"Want and Able\", \"Fireproof\", \"Heavenfaced\", \"This Is The Last Time\", \"Slipped\", \"I Need My Girl\", \"Humiliation\", \"Pink Rabbits\", \"Hard To Find\", \"Interlude 1\", \"Something Good\", \"Matilda\", \"Ms\", \"Interlude 3\", \"Bloodflood\", \"Taro\", \"Hand-Made\", \"Red State\", \"Tampa To Tulsa\", \"All The Right Reasons - Acoustic Version\", \"Tampa To Tulsa - Acoustic Version\", \"All The Right Reasons\", \"Stumbling Through The Dark - Reprise\", \"Waiting For The Sun - Live Acoustic (2002/Minneapolis)\", \"World Inside the World\", \"Delicate\", \"Cannonball\", \"Older Chests\", \"Amie\", \"Cheers Darlin'\", \"Cold Water\", \"Volcano\", \"Rocketship\", \"Empire State\", \"Lightning Rod\", \"Islands\", \"Typhoon\", \"Four Seasons In One Day\", \"All I Ask\", \"She Goes On\"], \"legendgroup\": \"acousticness\", \"marker\": {\"color\": \"#00cc96\", \"symbol\": \"circle\"}, \"mode\": \"markers\", \"name\": \"acousticness\", \"orientation\": \"v\", \"showlegend\": true, \"type\": \"scatter\", \"x\": [22, 17, 15, 31, 49, 14, 40, 32, 24, 24, 58, 68, 43, 34, 35, 35, 32, 63, 32, 33, 30, 49, 55, 25, 26, 58, 31, 29, 27, 24, 22, 32, 21, 42, 22, 27, 23, 44, 53, 53, 59, 41, 46, 55, 42, 8, 24, 14, 13, 33, 15, 13, 10, 48, 47, 46, 32, 35, 32, 43, 21, 23, 30, 36, 35, 50, 33, 36], \"xaxis\": \"x\", \"y\": [60, 60, 60, 66, 89, 56, 60, 64, 64, 64, 64, 64, 64, 69, 69, 69, 69, 69, 69, 69, 56, 56, 51, 51, 51, 61, 61, 61, 61, 74, 74, 74, 74, 74, 74, 74, 74, 75, 75, 75, 75, 75, 75, 75, 75, 37, 53, 53, 53, 53, 53, 53, 33, 66, 66, 66, 66, 66, 66, 66, 52, 52, 52, 70, 70, 69, 69, 69], \"yaxis\": \"y\"}, {\"customdata\": [[\"Frank Turner\"], [\"Frank Turner\"], [\"ZOX\"], [\"Kid Cudi\"], [\"Chiddy Bang\"], [\"Chiddy Bang\"], [\"Chiddy Bang\"], [\"Band of Horses\"], [\"Band of Horses\"], [\"Band of Horses\"], [\"Spoon\"], [\"Spoon\"], [\"Spoon\"], [\"Bright Eyes\"], [\"Bright Eyes\"], [\"Ben Folds\"], [\"Vince Guaraldi Trio\"], [\"Vince Guaraldi Trio\"], [\"Vince Guaraldi Trio\"], [\"Vince Guaraldi Trio\"], [\"Ben Folds\"], [\"Ben Folds Five\"], [\"Ben Folds Five\"], [\"Elvis Costello\"], [\"Elvis Costello\"], [\"Elvis Costello\"], [\"Elvis Costello\"], [\"Elvis Costello\"], [\"Elvis Costello\"], [\"Elvis Costello\"], [\"Elvis Costello\"], [\"Elvis Costello\"], [\"Elvis Costello\"], [\"Jack White\"], [\"Jack White\"], [\"Daft Punk\"], [\"Daft Punk\"], [\"The Clash\"], [\"The Clash\"], [\"The Clash\"], [\"The Clash\"], [\"The Clash\"], [\"The Clash\"], [\"The Clash\"], [\"The Clash\"], [\"The Clash\"], [\"Faded Paper Figures\"], [\"Faded Paper Figures\"], [\"Faded Paper Figures\"], [\"The Jayhawks\"], [\"Rhett Miller\"], [\"Damien Rice\"], [\"Damien Rice\"], [\"LCD Soundsystem\"], [\"LCD Soundsystem\"], [\"LCD Soundsystem\"], [\"LCD Soundsystem\"], [\"LCD Soundsystem\"], [\"LCD Soundsystem\"], [\"LCD Soundsystem\"], [\"Guster\"], [\"Guster\"], [\"Guster\"], [\"Guster\"], [\"The Fratellis\"], [\"Young the Giant\"], [\"Moby\"], [\"Moby\"], [\"Crowded House\"], [\"Crowded House\"], [\"Crowded House\"], [\"Crowded House\"], [\"Crowded House\"], [\"Crowded House\"], [\"Crowded House\"]], \"hovertemplate\": \"<b>%{hovertext}</b><br><br>Top_Feature=valence<br>Track_Popularity=%{x}<br>Artist_Popularity=%{y}<br>Artist=%{customdata[0]}<extra></extra>\", \"hovertext\": [\"We Shall Not Overcome\", \"Tattoos\", \"Little More Time\", \"Enter Galactic (Love Connection Part I)\", \"Breakfast\", \"Happening\", \"Baby Roulette\", \"Dilly\", \"How To Live\", \"A Little Biblical\", \"Rent I Pay\", \"Do You\", \"I Just Don't Understand\", \"At The Bottom Of Everything\", \"Another Travelin' Song\", \"You Don't Know Me (feat. Regina Spektor)\", \"Surfin' Snoopy\", \"Track Meet\", \"Camptown Races\", \"Linus And Lucy\", \"Annie Waits\", \"For All the Pretty People - Single B-Side - 1997\", \"She Don't Use Jelly - Lounge-A-Palooza Version\", \"Welcome To The Working Week\", \"Miracle Man\", \"No Dancing\", \"Blame It On Cain\", \"Sneaky Feelings\", \"(The Angels Wanna Wear My) Red Shoes\", \"Less Than Zero\", \"Pay It Back - \\\\\", \"Waiting For The End Of The World\", \"Watching The Detectives - Single Version\", \"Three Women\", \"That Black Bat Licorice\", \"Crescendolls\", \"Face to Face\", \"Jimmy Jazz - Remastered\", \"The Right Profile - Remastered\", \"Lost in the Supermarket - Remastered\", \"Clampdown - Remastered\", \"Wrong 'Em Boyo - Remastered\", \"Koka Kola - Remastered\", \"Lover's Rock - Remastered\", \"Revolution Rock - Remastered\", \"Train in Vain (Stand by Me) - Remastered\", \"Future Self\", \"I Fell Off My Name\", \"The Persuaded\", \"Fools On Parade - Bonus Disc Version\", \"Hover\", \"I Remember\", \"Eskimo\", \"Dance Yrself Clean\", \"All I Want\", \"Us V Them - London Session\", \"Daft Punk Is Playing at My House - London Session\", \"Pow Pow - London Session\", \"I Can Change - London Session\", \"Yr City Is a Sucker - London Session\", \"All The Way Up To Heaven\", \"Careful\", \"Jesus On The Radio\", \"Two At A Time\", \"Whistle For The Choir\", \"Guns Out\", \"Flower (B-Sides)\", \"Running (B-Sides)\", \"It's Only Natural\", \"Weather With You\", \"Whispers And Moans\", \"There Goes God\", \"As Sure As I Am\", \"Italian Plastic\", \"Chocolate Cake\"], \"legendgroup\": \"valence\", \"marker\": {\"color\": \"#ab63fa\", \"symbol\": \"circle\"}, \"mode\": \"markers\", \"name\": \"valence\", \"orientation\": \"v\", \"showlegend\": true, \"type\": \"scatter\", \"x\": [19, 24, 34, 54, 24, 30, 20, 38, 30, 29, 38, 49, 29, 46, 38, 46, 37, 32, 31, 32, 35, 20, 23, 38, 31, 26, 28, 26, 35, 35, 24, 37, 52, 36, 40, 53, 59, 44, 38, 56, 45, 39, 38, 37, 41, 63, 10, 12, 20, 13, 8, 32, 36, 30, 23, 18, 18, 15, 16, 16, 23, 33, 27, 20, 46, 37, 48, 18, 54, 69, 35, 33, 27, 33, 38], \"xaxis\": \"x\", \"y\": [60, 60, 29, 89, 56, 56, 56, 64, 64, 64, 61, 61, 61, 64, 64, 56, 69, 69, 69, 69, 56, 51, 51, 61, 61, 61, 61, 61, 61, 61, 61, 61, 61, 61, 61, 82, 82, 74, 74, 74, 74, 74, 74, 74, 74, 74, 37, 37, 37, 53, 33, 66, 66, 65, 65, 65, 65, 65, 65, 65, 52, 52, 52, 52, 63, 70, 72, 72, 69, 69, 69, 69, 69, 69, 69], \"yaxis\": \"y\"}, {\"customdata\": [[\"Chiddy Bang\"], [\"Vince Guaraldi Trio\"], [\"The National\"], [\"The National\"], [\"alt-J\"], [\"alt-J\"], [\"Daft Punk\"], [\"Daft Punk\"], [\"Daft Punk\"], [\"Daft Punk\"], [\"Daft Punk\"], [\"Faded Paper Figures\"], [\"Faded Paper Figures\"], [\"Faded Paper Figures\"], [\"Faded Paper Figures\"], [\"LCD Soundsystem\"], [\"LCD Soundsystem\"], [\"Moby\"], [\"Moby\"], [\"Moby\"], [\"Moby\"], [\"Moby\"], [\"Moby\"], [\"Moby\"], [\"Moby\"], [\"Moby\"], [\"Moby\"], [\"Moby\"], [\"Moby\"], [\"Moby\"], [\"Moby\"], [\"Moby\"]], \"hovertemplate\": \"<b>%{hovertext}</b><br><br>Top_Feature=instrumentalness<br>Track_Popularity=%{x}<br>Artist_Popularity=%{y}<br>Artist=%{customdata[0]}<extra></extra>\", \"hovertext\": [\"Intro\", \"Joe Cool\", \"Demons\", \"Sea of Love\", \"Intro\", \"Interlude 2\", \"Digital Love\", \"Nightvision\", \"Voyager\", \"Veridis Quo\", \"Short Circuit\", \"Polaroid Solution\", \"Metropolis\", \"Geneva's Gone\", \"Being There\", \"Somebody's Calling Me\", \"Throw\", \"Down Slow\", \"If Things Were Perfect\", \"Everloving\", \"Inside\", \"Sunday (B-Sides)\", \"Memory Gospel (B-Sides)\", \"Whispering Wind (B-Sides)\", \"Spirit (B-Sides)\", \"Flying Foxes (B-Sides)\", \"Sunspot (B-Sides)\", \"Flying Over The Dateline (B-Sides)\", \"The Sun Never Stops Setting (B-Sides)\", \"Rushing\", \"7\", \"Guitar Flute & String\"], \"legendgroup\": \"instrumentalness\", \"marker\": {\"color\": \"#FFA15A\", \"symbol\": \"circle\"}, \"mode\": \"markers\", \"name\": \"instrumentalness\", \"orientation\": \"v\", \"showlegend\": true, \"type\": \"scatter\", \"x\": [16, 35, 23, 24, 45, 45, 63, 51, 59, 62, 49, 17, 18, 11, 11, 18, 18, 26, 26, 37, 33, 22, 32, 34, 20, 21, 20, 18, 21, 33, 24, 30], \"xaxis\": \"x\", \"y\": [56, 69, 74, 74, 75, 75, 82, 82, 82, 82, 82, 37, 37, 37, 37, 65, 65, 72, 72, 72, 72, 72, 72, 72, 72, 72, 72, 72, 72, 72, 72, 72], \"yaxis\": \"y\"}, {\"customdata\": [[\"Band of Horses\"], [\"Guster\"], [\"Moby\"]], \"hovertemplate\": \"<b>%{hovertext}</b><br><br>Top_Feature=liveness<br>Track_Popularity=%{x}<br>Artist_Popularity=%{y}<br>Artist=%{customdata[0]}<extra></extra>\", \"hovertext\": [\"Older\", \"X-Ray Eyes\", \"My Weakness\"], \"legendgroup\": \"liveness\", \"marker\": {\"color\": \"#19d3f3\", \"symbol\": \"circle\"}, \"mode\": \"markers\", \"name\": \"liveness\", \"orientation\": \"v\", \"showlegend\": true, \"type\": \"scatter\", \"x\": [30, 21, 32], \"xaxis\": \"x\", \"y\": [64, 52, 72], \"yaxis\": \"y\"}],                        {\"legend\": {\"title\": {\"text\": \"Top_Feature\"}, \"tracegroupgap\": 0}, \"template\": {\"data\": {\"bar\": [{\"error_x\": {\"color\": \"#2a3f5f\"}, \"error_y\": {\"color\": \"#2a3f5f\"}, \"marker\": {\"line\": {\"color\": \"#E5ECF6\", \"width\": 0.5}}, \"type\": \"bar\"}], \"barpolar\": [{\"marker\": {\"line\": {\"color\": \"#E5ECF6\", \"width\": 0.5}}, \"type\": \"barpolar\"}], \"carpet\": [{\"aaxis\": {\"endlinecolor\": \"#2a3f5f\", \"gridcolor\": \"white\", \"linecolor\": \"white\", \"minorgridcolor\": \"white\", \"startlinecolor\": \"#2a3f5f\"}, \"baxis\": {\"endlinecolor\": \"#2a3f5f\", \"gridcolor\": \"white\", \"linecolor\": \"white\", \"minorgridcolor\": \"white\", \"startlinecolor\": \"#2a3f5f\"}, \"type\": \"carpet\"}], \"choropleth\": [{\"colorbar\": {\"outlinewidth\": 0, \"ticks\": \"\"}, \"type\": \"choropleth\"}], \"contour\": [{\"colorbar\": {\"outlinewidth\": 0, \"ticks\": \"\"}, \"colorscale\": [[0.0, \"#0d0887\"], [0.1111111111111111, \"#46039f\"], [0.2222222222222222, \"#7201a8\"], [0.3333333333333333, \"#9c179e\"], [0.4444444444444444, \"#bd3786\"], [0.5555555555555556, \"#d8576b\"], [0.6666666666666666, \"#ed7953\"], [0.7777777777777778, \"#fb9f3a\"], [0.8888888888888888, \"#fdca26\"], [1.0, \"#f0f921\"]], \"type\": \"contour\"}], \"contourcarpet\": [{\"colorbar\": {\"outlinewidth\": 0, \"ticks\": \"\"}, \"type\": \"contourcarpet\"}], \"heatmap\": [{\"colorbar\": {\"outlinewidth\": 0, \"ticks\": \"\"}, \"colorscale\": [[0.0, \"#0d0887\"], [0.1111111111111111, \"#46039f\"], [0.2222222222222222, \"#7201a8\"], [0.3333333333333333, \"#9c179e\"], [0.4444444444444444, \"#bd3786\"], [0.5555555555555556, \"#d8576b\"], [0.6666666666666666, \"#ed7953\"], [0.7777777777777778, \"#fb9f3a\"], [0.8888888888888888, \"#fdca26\"], [1.0, \"#f0f921\"]], \"type\": \"heatmap\"}], \"heatmapgl\": [{\"colorbar\": {\"outlinewidth\": 0, \"ticks\": \"\"}, \"colorscale\": [[0.0, \"#0d0887\"], [0.1111111111111111, \"#46039f\"], [0.2222222222222222, \"#7201a8\"], [0.3333333333333333, \"#9c179e\"], [0.4444444444444444, \"#bd3786\"], [0.5555555555555556, \"#d8576b\"], [0.6666666666666666, \"#ed7953\"], [0.7777777777777778, \"#fb9f3a\"], [0.8888888888888888, \"#fdca26\"], [1.0, \"#f0f921\"]], \"type\": \"heatmapgl\"}], \"histogram\": [{\"marker\": {\"colorbar\": {\"outlinewidth\": 0, \"ticks\": \"\"}}, \"type\": \"histogram\"}], \"histogram2d\": [{\"colorbar\": {\"outlinewidth\": 0, \"ticks\": \"\"}, \"colorscale\": [[0.0, \"#0d0887\"], [0.1111111111111111, \"#46039f\"], [0.2222222222222222, \"#7201a8\"], [0.3333333333333333, \"#9c179e\"], [0.4444444444444444, \"#bd3786\"], [0.5555555555555556, \"#d8576b\"], [0.6666666666666666, \"#ed7953\"], [0.7777777777777778, \"#fb9f3a\"], [0.8888888888888888, \"#fdca26\"], [1.0, \"#f0f921\"]], \"type\": \"histogram2d\"}], \"histogram2dcontour\": [{\"colorbar\": {\"outlinewidth\": 0, \"ticks\": \"\"}, \"colorscale\": [[0.0, \"#0d0887\"], [0.1111111111111111, \"#46039f\"], [0.2222222222222222, \"#7201a8\"], [0.3333333333333333, \"#9c179e\"], [0.4444444444444444, \"#bd3786\"], [0.5555555555555556, \"#d8576b\"], [0.6666666666666666, \"#ed7953\"], [0.7777777777777778, \"#fb9f3a\"], [0.8888888888888888, \"#fdca26\"], [1.0, \"#f0f921\"]], \"type\": \"histogram2dcontour\"}], \"mesh3d\": [{\"colorbar\": {\"outlinewidth\": 0, \"ticks\": \"\"}, \"type\": \"mesh3d\"}], \"parcoords\": [{\"line\": {\"colorbar\": {\"outlinewidth\": 0, \"ticks\": \"\"}}, \"type\": \"parcoords\"}], \"pie\": [{\"automargin\": true, \"type\": \"pie\"}], \"scatter\": [{\"marker\": {\"colorbar\": {\"outlinewidth\": 0, \"ticks\": \"\"}}, \"type\": \"scatter\"}], \"scatter3d\": [{\"line\": {\"colorbar\": {\"outlinewidth\": 0, \"ticks\": \"\"}}, \"marker\": {\"colorbar\": {\"outlinewidth\": 0, \"ticks\": \"\"}}, \"type\": \"scatter3d\"}], \"scattercarpet\": [{\"marker\": {\"colorbar\": {\"outlinewidth\": 0, \"ticks\": \"\"}}, \"type\": \"scattercarpet\"}], \"scattergeo\": [{\"marker\": {\"colorbar\": {\"outlinewidth\": 0, \"ticks\": \"\"}}, \"type\": \"scattergeo\"}], \"scattergl\": [{\"marker\": {\"colorbar\": {\"outlinewidth\": 0, \"ticks\": \"\"}}, \"type\": \"scattergl\"}], \"scattermapbox\": [{\"marker\": {\"colorbar\": {\"outlinewidth\": 0, \"ticks\": \"\"}}, \"type\": \"scattermapbox\"}], \"scatterpolar\": [{\"marker\": {\"colorbar\": {\"outlinewidth\": 0, \"ticks\": \"\"}}, \"type\": \"scatterpolar\"}], \"scatterpolargl\": [{\"marker\": {\"colorbar\": {\"outlinewidth\": 0, \"ticks\": \"\"}}, \"type\": \"scatterpolargl\"}], \"scatterternary\": [{\"marker\": {\"colorbar\": {\"outlinewidth\": 0, \"ticks\": \"\"}}, \"type\": \"scatterternary\"}], \"surface\": [{\"colorbar\": {\"outlinewidth\": 0, \"ticks\": \"\"}, \"colorscale\": [[0.0, \"#0d0887\"], [0.1111111111111111, \"#46039f\"], [0.2222222222222222, \"#7201a8\"], [0.3333333333333333, \"#9c179e\"], [0.4444444444444444, \"#bd3786\"], [0.5555555555555556, \"#d8576b\"], [0.6666666666666666, \"#ed7953\"], [0.7777777777777778, \"#fb9f3a\"], [0.8888888888888888, \"#fdca26\"], [1.0, \"#f0f921\"]], \"type\": \"surface\"}], \"table\": [{\"cells\": {\"fill\": {\"color\": \"#EBF0F8\"}, \"line\": {\"color\": \"white\"}}, \"header\": {\"fill\": {\"color\": \"#C8D4E3\"}, \"line\": {\"color\": \"white\"}}, \"type\": \"table\"}]}, \"layout\": {\"annotationdefaults\": {\"arrowcolor\": \"#2a3f5f\", \"arrowhead\": 0, \"arrowwidth\": 1}, \"autotypenumbers\": \"strict\", \"coloraxis\": {\"colorbar\": {\"outlinewidth\": 0, \"ticks\": \"\"}}, \"colorscale\": {\"diverging\": [[0, \"#8e0152\"], [0.1, \"#c51b7d\"], [0.2, \"#de77ae\"], [0.3, \"#f1b6da\"], [0.4, \"#fde0ef\"], [0.5, \"#f7f7f7\"], [0.6, \"#e6f5d0\"], [0.7, \"#b8e186\"], [0.8, \"#7fbc41\"], [0.9, \"#4d9221\"], [1, \"#276419\"]], \"sequential\": [[0.0, \"#0d0887\"], [0.1111111111111111, \"#46039f\"], [0.2222222222222222, \"#7201a8\"], [0.3333333333333333, \"#9c179e\"], [0.4444444444444444, \"#bd3786\"], [0.5555555555555556, \"#d8576b\"], [0.6666666666666666, \"#ed7953\"], [0.7777777777777778, \"#fb9f3a\"], [0.8888888888888888, \"#fdca26\"], [1.0, \"#f0f921\"]], \"sequentialminus\": [[0.0, \"#0d0887\"], [0.1111111111111111, \"#46039f\"], [0.2222222222222222, \"#7201a8\"], [0.3333333333333333, \"#9c179e\"], [0.4444444444444444, \"#bd3786\"], [0.5555555555555556, \"#d8576b\"], [0.6666666666666666, \"#ed7953\"], [0.7777777777777778, \"#fb9f3a\"], [0.8888888888888888, \"#fdca26\"], [1.0, \"#f0f921\"]]}, \"colorway\": [\"#636efa\", \"#EF553B\", \"#00cc96\", \"#ab63fa\", \"#FFA15A\", \"#19d3f3\", \"#FF6692\", \"#B6E880\", \"#FF97FF\", \"#FECB52\"], \"font\": {\"color\": \"#2a3f5f\"}, \"geo\": {\"bgcolor\": \"white\", \"lakecolor\": \"white\", \"landcolor\": \"#E5ECF6\", \"showlakes\": true, \"showland\": true, \"subunitcolor\": \"white\"}, \"hoverlabel\": {\"align\": \"left\"}, \"hovermode\": \"closest\", \"mapbox\": {\"style\": \"light\"}, \"paper_bgcolor\": \"white\", \"plot_bgcolor\": \"#E5ECF6\", \"polar\": {\"angularaxis\": {\"gridcolor\": \"white\", \"linecolor\": \"white\", \"ticks\": \"\"}, \"bgcolor\": \"#E5ECF6\", \"radialaxis\": {\"gridcolor\": \"white\", \"linecolor\": \"white\", \"ticks\": \"\"}}, \"scene\": {\"xaxis\": {\"backgroundcolor\": \"#E5ECF6\", \"gridcolor\": \"white\", \"gridwidth\": 2, \"linecolor\": \"white\", \"showbackground\": true, \"ticks\": \"\", \"zerolinecolor\": \"white\"}, \"yaxis\": {\"backgroundcolor\": \"#E5ECF6\", \"gridcolor\": \"white\", \"gridwidth\": 2, \"linecolor\": \"white\", \"showbackground\": true, \"ticks\": \"\", \"zerolinecolor\": \"white\"}, \"zaxis\": {\"backgroundcolor\": \"#E5ECF6\", \"gridcolor\": \"white\", \"gridwidth\": 2, \"linecolor\": \"white\", \"showbackground\": true, \"ticks\": \"\", \"zerolinecolor\": \"white\"}}, \"shapedefaults\": {\"line\": {\"color\": \"#2a3f5f\"}}, \"ternary\": {\"aaxis\": {\"gridcolor\": \"white\", \"linecolor\": \"white\", \"ticks\": \"\"}, \"baxis\": {\"gridcolor\": \"white\", \"linecolor\": \"white\", \"ticks\": \"\"}, \"bgcolor\": \"#E5ECF6\", \"caxis\": {\"gridcolor\": \"white\", \"linecolor\": \"white\", \"ticks\": \"\"}}, \"title\": {\"x\": 0.05}, \"xaxis\": {\"automargin\": true, \"gridcolor\": \"white\", \"linecolor\": \"white\", \"ticks\": \"\", \"title\": {\"standoff\": 15}, \"zerolinecolor\": \"white\", \"zerolinewidth\": 2}, \"yaxis\": {\"automargin\": true, \"gridcolor\": \"white\", \"linecolor\": \"white\", \"ticks\": \"\", \"title\": {\"standoff\": 15}, \"zerolinecolor\": \"white\", \"zerolinewidth\": 2}}}, \"title\": {\"text\": \"Library Track/Artist Breakdown\"}, \"xaxis\": {\"anchor\": \"y\", \"domain\": [0.0, 1.0], \"title\": {\"text\": \"Track_Popularity\"}}, \"yaxis\": {\"anchor\": \"x\", \"domain\": [0.0, 1.0], \"title\": {\"text\": \"Artist_Popularity\"}}},                        {\"responsive\": true}                    ).then(function(){\n",
       "                            \n",
       "var gd = document.getElementById('90c6ff90-aac5-4b0f-80b5-e2064e8f2f82');\n",
       "var x = new MutationObserver(function (mutations, observer) {{\n",
       "        var display = window.getComputedStyle(gd).display;\n",
       "        if (!display || display === 'none') {{\n",
       "            console.log([gd, 'removed!']);\n",
       "            Plotly.purge(gd);\n",
       "            observer.disconnect();\n",
       "        }}\n",
       "}});\n",
       "\n",
       "// Listen for the removal of the full notebook cells\n",
       "var notebookContainer = gd.closest('#notebook-container');\n",
       "if (notebookContainer) {{\n",
       "    x.observe(notebookContainer, {childList: true});\n",
       "}}\n",
       "\n",
       "// Listen for the clearing of the current output cell\n",
       "var outputEl = gd.closest('.output');\n",
       "if (outputEl) {{\n",
       "    x.observe(outputEl, {childList: true});\n",
       "}}\n",
       "\n",
       "                        })                };                });            </script>        </div>"
      ]
     },
     "metadata": {},
     "output_type": "display_data"
    }
   ],
   "source": [
    "pd.options.plotting.backend = \"plotly\"\n",
    "fig = tracks_pd.plot.scatter(x='Track_Popularity', y='Artist_Popularity', color='Top_Feature', hover_name=\"Song\", hover_data=[\"Artist\"], title=\"Library Track/Artist Breakdown\")\n",
    "fig.show()"
   ]
  },
  {
   "cell_type": "code",
   "execution_count": 83,
   "metadata": {},
   "outputs": [],
   "source": [
    "pd.options.plotting.backend = 'matplotlib'\n",
    "features = tracks_pd.groupby(['Top_Feature']).count()['Artist']"
   ]
  },
  {
   "cell_type": "code",
   "execution_count": 84,
   "metadata": {},
   "outputs": [
    {
     "data": {
      "image/png": "[encoded data removed]",
      "text/plain": [
       "<Figure size 648x648 with 1 Axes>"
      ]
     },
     "metadata": {},
     "output_type": "display_data"
    }
   ],
   "source": [
    "labels = list(features.index)\n",
    "vals = list(features.values)\n",
    "\n",
    "fig1, ax1 = plt.subplots(figsize=(9,9))\n",
    "ax1.pie(vals, labels=labels, autopct='%1.1f%%',\n",
    "        shadow=True, startangle=90)\n",
    "ax1.axis('equal')  # Equal aspect ratio ensures that pie is drawn as a circle.\n",
    "ax1.set_title('Feature Breakdown', pad=40, size=20)\n",
    "plt.show()"
   ]
  },
  {
   "cell_type": "code",
   "execution_count": 92,
   "metadata": {},
   "outputs": [
    {
     "name": "stdout",
     "output_type": "stream",
     "text": [
      "Based off of your libary, here are 10 songs we think you'll like: \n",
      "'A Change Is Gonna Come - Recorded At Spotify Studios NYC' by Ledisi\n",
      "'Shadow' by Jimmy Levy\n",
      "'Little Sparrow' by Leyla McCalla\n",
      "'Harpsichord Concerto No. 7 in G Minor, BWV 1058: III. Allegro assai' by Johann Sebastian Bach\n",
      "'Dancing When I Die' by Heather Janssen\n",
      "'Why Me' by Kris Kristofferson\n",
      "'That's Amore - 1998 Remastered' by Dean Martin\n",
      "'Rolls for Rolling' by Daniel Karlsson Trio\n",
      "'Guiding Light - Radio Edit' by Foy Vance\n",
      "'Last Smoke Before The Snowstorm' by Benjamin Francis Leftwich\n",
      "'James Dean' by David Keenan\n"
     ]
    }
   ],
   "source": [
    "target = random.choice(songs_user)\n",
    "\n",
    "songs = []\n",
    "with open(\"tracks_unique.csv\", newline=\"\", mode=\"r\") as csvfile:\n",
    "    reader = csv.DictReader(csvfile)\n",
    "    count = 0\n",
    "    for row in reader:\n",
    "\n",
    "        song = [\n",
    "            float(row[\"danceability\"]),\n",
    "            float(row[\"energy\"]),\n",
    "            float(row[\"speechiness\"]),\n",
    "            float(row[\"acousticness\"]),\n",
    "            float(row[\"valence\"]),\n",
    "        ]\n",
    "\n",
    "        dist = distance.euclidean(target, song)\n",
    "        if len(songs) <= 10:\n",
    "            songs.append([row[\"song_name\"], row[\"song_artist\"], dist])\n",
    "            sorted(songs, key=lambda x: x[2])\n",
    "        else:\n",
    "            if dist < songs[-1][2]:\n",
    "                songs.remove(songs[-1])\n",
    "                songs.append([row[\"song_name\"], row[\"song_artist\"], dist])\n",
    "                songs.sort(key=lambda x: x[2])\n",
    "                # print(songs)\n",
    "#         if count % 100 == 0:\n",
    "# #             print(count)\n",
    "        count += 1\n",
    "\n",
    "print(\"Based off of your libary, here are 10 songs we think you'll like: \")\n",
    "for i in songs:\n",
    "    print(\"'\" + i[0] + \"'\" + \" by \" + i[1])"
   ]
  },
  {
   "cell_type": "code",
   "execution_count": null,
   "metadata": {},
   "outputs": [],
   "source": []
  },
  {
   "cell_type": "code",
   "execution_count": null,
   "metadata": {},
   "outputs": [],
   "source": []
  }
 ],
 "metadata": {
  "celltoolbar": "Slideshow",
  "kernelspec": {
   "display_name": "Python 3",
   "language": "python",
   "name": "python3"
  },
  "language_info": {
   "codemirror_mode": {
    "name": "ipython",
    "version": 3
   },
   "file_extension": ".py",
   "mimetype": "text/x-python",
   "name": "python",
   "nbconvert_exporter": "python",
   "pygments_lexer": "ipython3",
   "version": "3.6.5"
  }
 },
 "nbformat": 4,
 "nbformat_minor": 4
}
